{
 "cells": [
  {
   "cell_type": "code",
   "execution_count": 1,
   "id": "fe8655fe-fd2e-4d09-9ac9-e4776b4c5267",
   "metadata": {},
   "outputs": [],
   "source": [
    "with open('D11.txt') as f:\n",
    "    raw_lines = f.readlines()"
   ]
  },
  {
   "cell_type": "code",
   "execution_count": 2,
   "id": "c53fe621-c250-46f5-9ade-bbfc15eeb687",
   "metadata": {},
   "outputs": [
    {
     "data": {
      "text/plain": [
       "['Monkey 0:\\n',\n",
       " '  Starting items: 74, 64, 74, 63, 53\\n',\n",
       " '  Operation: new = old * 7\\n',\n",
       " '  Test: divisible by 5\\n',\n",
       " '    If true: throw to monkey 1\\n',\n",
       " '    If false: throw to monkey 6\\n',\n",
       " '\\n',\n",
       " 'Monkey 1:\\n',\n",
       " '  Starting items: 69, 99, 95, 62\\n',\n",
       " '  Operation: new = old * old\\n',\n",
       " '  Test: divisible by 17\\n',\n",
       " '    If true: throw to monkey 2\\n',\n",
       " '    If false: throw to monkey 5\\n',\n",
       " '\\n',\n",
       " 'Monkey 2:\\n',\n",
       " '  Starting items: 59, 81\\n',\n",
       " '  Operation: new = old + 8\\n',\n",
       " '  Test: divisible by 7\\n',\n",
       " '    If true: throw to monkey 4\\n',\n",
       " '    If false: throw to monkey 3\\n',\n",
       " '\\n',\n",
       " 'Monkey 3:\\n',\n",
       " '  Starting items: 50, 67, 63, 57, 63, 83, 97\\n',\n",
       " '  Operation: new = old + 4\\n',\n",
       " '  Test: divisible by 13\\n',\n",
       " '    If true: throw to monkey 0\\n',\n",
       " '    If false: throw to monkey 7\\n',\n",
       " '\\n',\n",
       " 'Monkey 4:\\n',\n",
       " '  Starting items: 61, 94, 85, 52, 81, 90, 94, 70\\n',\n",
       " '  Operation: new = old + 3\\n',\n",
       " '  Test: divisible by 19\\n',\n",
       " '    If true: throw to monkey 7\\n',\n",
       " '    If false: throw to monkey 3\\n',\n",
       " '\\n',\n",
       " 'Monkey 5:\\n',\n",
       " '  Starting items: 69\\n',\n",
       " '  Operation: new = old + 5\\n',\n",
       " '  Test: divisible by 3\\n',\n",
       " '    If true: throw to monkey 4\\n',\n",
       " '    If false: throw to monkey 2\\n',\n",
       " '\\n',\n",
       " 'Monkey 6:\\n',\n",
       " '  Starting items: 54, 55, 58\\n',\n",
       " '  Operation: new = old + 7\\n',\n",
       " '  Test: divisible by 11\\n',\n",
       " '    If true: throw to monkey 1\\n',\n",
       " '    If false: throw to monkey 5\\n',\n",
       " '\\n',\n",
       " 'Monkey 7:\\n',\n",
       " '  Starting items: 79, 51, 83, 88, 93, 76\\n',\n",
       " '  Operation: new = old * 3\\n',\n",
       " '  Test: divisible by 2\\n',\n",
       " '    If true: throw to monkey 0\\n',\n",
       " '    If false: throw to monkey 6\\n']"
      ]
     },
     "execution_count": 2,
     "metadata": {},
     "output_type": "execute_result"
    }
   ],
   "source": [
    "raw_lines"
   ]
  },
  {
   "cell_type": "code",
   "execution_count": null,
   "id": "c039292c-bc30-4713-b24c-63006a923187",
   "metadata": {},
   "outputs": [],
   "source": []
  }
 ],
 "metadata": {
  "kernelspec": {
   "display_name": "Python 3 (ipykernel)",
   "language": "python",
   "name": "python3"
  },
  "language_info": {
   "codemirror_mode": {
    "name": "ipython",
    "version": 3
   },
   "file_extension": ".py",
   "mimetype": "text/x-python",
   "name": "python",
   "nbconvert_exporter": "python",
   "pygments_lexer": "ipython3",
   "version": "3.7.4"
  }
 },
 "nbformat": 4,
 "nbformat_minor": 5
}
