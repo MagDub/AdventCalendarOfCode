{
 "cells": [
  {
   "cell_type": "code",
   "execution_count": 297,
   "id": "ad5abd4c-159b-4f3f-b403-cecfc42611cb",
   "metadata": {},
   "outputs": [],
   "source": [
    "import math"
   ]
  },
  {
   "cell_type": "code",
   "execution_count": 298,
   "id": "fe8655fe-fd2e-4d09-9ac9-e4776b4c5267",
   "metadata": {},
   "outputs": [],
   "source": [
    "with open('D11sample.txt') as f:\n",
    "    raw_lines = f.readlines()"
   ]
  },
  {
   "cell_type": "code",
   "execution_count": 299,
   "id": "c53fe621-c250-46f5-9ade-bbfc15eeb687",
   "metadata": {},
   "outputs": [
    {
     "data": {
      "text/plain": [
       "['Monkey 0:\\n',\n",
       " '  Starting items: 79, 98\\n',\n",
       " '  Operation: new = old * 19\\n',\n",
       " '  Test: divisible by 23\\n',\n",
       " '    If true: throw to monkey 2\\n',\n",
       " '    If false: throw to monkey 3\\n',\n",
       " '\\n',\n",
       " 'Monkey 1:\\n',\n",
       " '  Starting items: 54, 65, 75, 74\\n',\n",
       " '  Operation: new = old + 6\\n',\n",
       " '  Test: divisible by 19\\n',\n",
       " '    If true: throw to monkey 2\\n',\n",
       " '    If false: throw to monkey 0\\n',\n",
       " '\\n',\n",
       " 'Monkey 2:\\n',\n",
       " '  Starting items: 79, 60, 97\\n',\n",
       " '  Operation: new = old * old\\n',\n",
       " '  Test: divisible by 13\\n',\n",
       " '    If true: throw to monkey 1\\n',\n",
       " '    If false: throw to monkey 3\\n',\n",
       " '\\n',\n",
       " 'Monkey 3:\\n',\n",
       " '  Starting items: 74\\n',\n",
       " '  Operation: new = old + 3\\n',\n",
       " '  Test: divisible by 17\\n',\n",
       " '    If true: throw to monkey 0\\n',\n",
       " '    If false: throw to monkey 1\\n']"
      ]
     },
     "execution_count": 299,
     "metadata": {},
     "output_type": "execute_result"
    }
   ],
   "source": [
    "raw_lines"
   ]
  },
  {
   "cell_type": "code",
   "execution_count": 340,
   "id": "c039292c-bc30-4713-b24c-63006a923187",
   "metadata": {},
   "outputs": [],
   "source": [
    "class Monkey:\n",
    "    \n",
    "    \n",
    "    def __init__(self, number, worry_level, monkey):\n",
    "        \n",
    "        self.worry_level = worry_level\n",
    "        self.number = number\n",
    "        self.starting_items = monkey['starting_items']\n",
    "        self.operation = monkey['operation']\n",
    "        self.div_test = monkey['div_test']\n",
    "        self.true_false = monkey['true_false']\n",
    "      \n",
    "    \n",
    "    def inspects(self):\n",
    "        \n",
    "        starting_items = self.starting_items\n",
    "        operation = self.operation\n",
    "        next_monkeys = []\n",
    "        worry_levels = []\n",
    "        \n",
    "        for starting_item in starting_items:\n",
    "            \n",
    "            old = starting_item\n",
    "            worry_level = math.floor(eval(self.operation)/3)\n",
    "            worry_levels.append(worry_level)\n",
    "                        \n",
    "            if worry_level % self.div_test == 0:\n",
    "                next_monkeys.append(self.true_false[0])\n",
    "            \n",
    "            else:\n",
    "                next_monkeys.append(self.true_false[1])\n",
    "                \n",
    "        return worry_levels, next_monkeys\n",
    "                \n",
    "                \n",
    "            "
   ]
  },
  {
   "cell_type": "code",
   "execution_count": 352,
   "id": "682521af-4252-4905-97f2-7111d5fbd906",
   "metadata": {},
   "outputs": [],
   "source": [
    "monkeys = {}\n",
    "\n",
    "for i in range(0, len(raw_lines), 7):\n",
    "    number = int(raw_lines[i].strip('Monkey ').strip(':\\n'))\n",
    "    monkeys[number] = {}\n",
    "    monkeys[number]['starting_items'] = [int(starting_item) for starting_item in raw_lines[i+1].strip().strip('Starting items :').split(',')]\n",
    "    monkeys[number]['operation'] = raw_lines[i+2].strip().strip('Operation:').strip('new =')\n",
    "    monkeys[number]['div_test'] = int(raw_lines[i+3].strip().split()[-1])\n",
    "    monkey[number]['true_false'] = [int(raw_lines[i+4].split()[-1]), int(raw_lines[i+5].split()[-1])]"
   ]
  },
  {
   "cell_type": "code",
   "execution_count": 355,
   "id": "38e1919d-eac8-4db4-9247-8cd7491db180",
   "metadata": {
    "tags": []
   },
   "outputs": [
    {
     "name": "stdout",
     "output_type": "stream",
     "text": [
      "0\n",
      "[500, 620] [3, 3]\n",
      "1\n",
      "[20, 23, 27, 26] [0, 0, 0, 0]\n",
      "2\n",
      "[2080, 1200, 3136] [1, 3, 3]\n",
      "3\n",
      "[25] [1]\n"
     ]
    }
   ],
   "source": [
    "N_round = 1\n",
    "worry_level = 0\n",
    "\n",
    "for i_monkey in range(0, len(monkeys)):\n",
    "    \n",
    "    print(i_monkey)\n",
    "        \n",
    "    M = Monkey(i_monkey, worry_level, monkey[i_monkey])\n",
    "    worry_levels, next_monkeys = M.inspects()\n",
    "    print(worry_levels, next_monkeys)\n",
    "    "
   ]
  },
  {
   "cell_type": "code",
   "execution_count": 354,
   "id": "b65ec0a6-4e04-4f41-ac8a-e2b4ea057c16",
   "metadata": {},
   "outputs": [
    {
     "data": {
      "text/plain": [
       "4"
      ]
     },
     "execution_count": 354,
     "metadata": {},
     "output_type": "execute_result"
    }
   ],
   "source": [
    "len(monkeys)"
   ]
  },
  {
   "cell_type": "code",
   "execution_count": null,
   "id": "9b33ba10-18d2-420b-981b-9d68b309250c",
   "metadata": {},
   "outputs": [],
   "source": []
  }
 ],
 "metadata": {
  "kernelspec": {
   "display_name": "Python 3 (ipykernel)",
   "language": "python",
   "name": "python3"
  },
  "language_info": {
   "codemirror_mode": {
    "name": "ipython",
    "version": 3
   },
   "file_extension": ".py",
   "mimetype": "text/x-python",
   "name": "python",
   "nbconvert_exporter": "python",
   "pygments_lexer": "ipython3",
   "version": "3.7.4"
  }
 },
 "nbformat": 4,
 "nbformat_minor": 5
}
