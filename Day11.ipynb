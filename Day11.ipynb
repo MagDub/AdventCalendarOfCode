{
 "cells": [
  {
   "cell_type": "code",
   "execution_count": 2,
   "id": "ad5abd4c-159b-4f3f-b403-cecfc42611cb",
   "metadata": {},
   "outputs": [],
   "source": [
    "import math"
   ]
  },
  {
   "cell_type": "code",
   "execution_count": 3,
   "id": "fe8655fe-fd2e-4d09-9ac9-e4776b4c5267",
   "metadata": {},
   "outputs": [],
   "source": [
    "with open('D11sample.txt') as f:\n",
    "    raw_lines = f.readlines()"
   ]
  },
  {
   "cell_type": "code",
   "execution_count": 4,
   "id": "c53fe621-c250-46f5-9ade-bbfc15eeb687",
   "metadata": {},
   "outputs": [
    {
     "data": {
      "text/plain": [
       "['Monkey 0:\\n',\n",
       " '  Starting items: 79, 98\\n',\n",
       " '  Operation: new = old * 19\\n',\n",
       " '  Test: divisible by 23\\n',\n",
       " '    If true: throw to monkey 2\\n',\n",
       " '    If false: throw to monkey 3\\n',\n",
       " '\\n',\n",
       " 'Monkey 1:\\n',\n",
       " '  Starting items: 54, 65, 75, 74\\n',\n",
       " '  Operation: new = old + 6\\n',\n",
       " '  Test: divisible by 19\\n',\n",
       " '    If true: throw to monkey 2\\n',\n",
       " '    If false: throw to monkey 0\\n',\n",
       " '\\n',\n",
       " 'Monkey 2:\\n',\n",
       " '  Starting items: 79, 60, 97\\n',\n",
       " '  Operation: new = old * old\\n',\n",
       " '  Test: divisible by 13\\n',\n",
       " '    If true: throw to monkey 1\\n',\n",
       " '    If false: throw to monkey 3\\n',\n",
       " '\\n',\n",
       " 'Monkey 3:\\n',\n",
       " '  Starting items: 74\\n',\n",
       " '  Operation: new = old + 3\\n',\n",
       " '  Test: divisible by 17\\n',\n",
       " '    If true: throw to monkey 0\\n',\n",
       " '    If false: throw to monkey 1\\n']"
      ]
     },
     "execution_count": 4,
     "metadata": {},
     "output_type": "execute_result"
    }
   ],
   "source": [
    "raw_lines"
   ]
  },
  {
   "cell_type": "code",
   "execution_count": 5,
   "id": "c039292c-bc30-4713-b24c-63006a923187",
   "metadata": {},
   "outputs": [],
   "source": [
    "class Monkey:\n",
    "    \n",
    "    \n",
    "    def __init__(self, number, worry_level, monkey):\n",
    "        \n",
    "        self.worry_level = worry_level\n",
    "        self.number = number\n",
    "        self.starting_items = monkey['starting_items']\n",
    "        self.operation = monkey['operation']\n",
    "        self.div_test = monkey['div_test']\n",
    "        self.true_false = monkey['true_false']\n",
    "      \n",
    "    \n",
    "    def inspects(self):\n",
    "        \n",
    "        starting_items = self.starting_items\n",
    "        operation = self.operation\n",
    "        next_monkeys = []\n",
    "        worry_levels = []\n",
    "        \n",
    "        for starting_item in starting_items:\n",
    "            \n",
    "            old = starting_item\n",
    "            worry_level = math.floor(eval(self.operation)/3)\n",
    "            worry_levels.append(worry_level)\n",
    "                        \n",
    "            if worry_level % self.div_test == 0:\n",
    "                next_monkeys.append(self.true_false[0])\n",
    "            \n",
    "            else:\n",
    "                next_monkeys.append(self.true_false[1])\n",
    "                \n",
    "        return worry_levels, next_monkeys\n",
    "                \n",
    "                \n",
    "            "
   ]
  },
  {
   "cell_type": "code",
   "execution_count": 6,
   "id": "682521af-4252-4905-97f2-7111d5fbd906",
   "metadata": {},
   "outputs": [
    {
     "ename": "NameError",
     "evalue": "name 'monkey' is not defined",
     "output_type": "error",
     "traceback": [
      "\u001b[0;31m---------------------------------------------------------------------------\u001b[0m",
      "\u001b[0;31mNameError\u001b[0m                                 Traceback (most recent call last)",
      "\u001b[0;32m/var/folders/j4/9tlhvs6s1jg884qtbbjj64w40000gn/T/ipykernel_506/1903513456.py\u001b[0m in \u001b[0;36m<module>\u001b[0;34m\u001b[0m\n\u001b[1;32m      7\u001b[0m     \u001b[0mmonkeys\u001b[0m\u001b[0;34m[\u001b[0m\u001b[0mnumber\u001b[0m\u001b[0;34m]\u001b[0m\u001b[0;34m[\u001b[0m\u001b[0;34m'operation'\u001b[0m\u001b[0;34m]\u001b[0m \u001b[0;34m=\u001b[0m \u001b[0mraw_lines\u001b[0m\u001b[0;34m[\u001b[0m\u001b[0mi\u001b[0m\u001b[0;34m+\u001b[0m\u001b[0;36m2\u001b[0m\u001b[0;34m]\u001b[0m\u001b[0;34m.\u001b[0m\u001b[0mstrip\u001b[0m\u001b[0;34m(\u001b[0m\u001b[0;34m)\u001b[0m\u001b[0;34m.\u001b[0m\u001b[0mstrip\u001b[0m\u001b[0;34m(\u001b[0m\u001b[0;34m'Operation:'\u001b[0m\u001b[0;34m)\u001b[0m\u001b[0;34m.\u001b[0m\u001b[0mstrip\u001b[0m\u001b[0;34m(\u001b[0m\u001b[0;34m'new ='\u001b[0m\u001b[0;34m)\u001b[0m\u001b[0;34m\u001b[0m\u001b[0;34m\u001b[0m\u001b[0m\n\u001b[1;32m      8\u001b[0m     \u001b[0mmonkeys\u001b[0m\u001b[0;34m[\u001b[0m\u001b[0mnumber\u001b[0m\u001b[0;34m]\u001b[0m\u001b[0;34m[\u001b[0m\u001b[0;34m'div_test'\u001b[0m\u001b[0;34m]\u001b[0m \u001b[0;34m=\u001b[0m \u001b[0mint\u001b[0m\u001b[0;34m(\u001b[0m\u001b[0mraw_lines\u001b[0m\u001b[0;34m[\u001b[0m\u001b[0mi\u001b[0m\u001b[0;34m+\u001b[0m\u001b[0;36m3\u001b[0m\u001b[0;34m]\u001b[0m\u001b[0;34m.\u001b[0m\u001b[0mstrip\u001b[0m\u001b[0;34m(\u001b[0m\u001b[0;34m)\u001b[0m\u001b[0;34m.\u001b[0m\u001b[0msplit\u001b[0m\u001b[0;34m(\u001b[0m\u001b[0;34m)\u001b[0m\u001b[0;34m[\u001b[0m\u001b[0;34m-\u001b[0m\u001b[0;36m1\u001b[0m\u001b[0;34m]\u001b[0m\u001b[0;34m)\u001b[0m\u001b[0;34m\u001b[0m\u001b[0;34m\u001b[0m\u001b[0m\n\u001b[0;32m----> 9\u001b[0;31m     \u001b[0mmonkey\u001b[0m\u001b[0;34m[\u001b[0m\u001b[0mnumber\u001b[0m\u001b[0;34m]\u001b[0m\u001b[0;34m[\u001b[0m\u001b[0;34m'true_false'\u001b[0m\u001b[0;34m]\u001b[0m \u001b[0;34m=\u001b[0m \u001b[0;34m[\u001b[0m\u001b[0mint\u001b[0m\u001b[0;34m(\u001b[0m\u001b[0mraw_lines\u001b[0m\u001b[0;34m[\u001b[0m\u001b[0mi\u001b[0m\u001b[0;34m+\u001b[0m\u001b[0;36m4\u001b[0m\u001b[0;34m]\u001b[0m\u001b[0;34m.\u001b[0m\u001b[0msplit\u001b[0m\u001b[0;34m(\u001b[0m\u001b[0;34m)\u001b[0m\u001b[0;34m[\u001b[0m\u001b[0;34m-\u001b[0m\u001b[0;36m1\u001b[0m\u001b[0;34m]\u001b[0m\u001b[0;34m)\u001b[0m\u001b[0;34m,\u001b[0m \u001b[0mint\u001b[0m\u001b[0;34m(\u001b[0m\u001b[0mraw_lines\u001b[0m\u001b[0;34m[\u001b[0m\u001b[0mi\u001b[0m\u001b[0;34m+\u001b[0m\u001b[0;36m5\u001b[0m\u001b[0;34m]\u001b[0m\u001b[0;34m.\u001b[0m\u001b[0msplit\u001b[0m\u001b[0;34m(\u001b[0m\u001b[0;34m)\u001b[0m\u001b[0;34m[\u001b[0m\u001b[0;34m-\u001b[0m\u001b[0;36m1\u001b[0m\u001b[0;34m]\u001b[0m\u001b[0;34m)\u001b[0m\u001b[0;34m]\u001b[0m\u001b[0;34m\u001b[0m\u001b[0;34m\u001b[0m\u001b[0m\n\u001b[0m",
      "\u001b[0;31mNameError\u001b[0m: name 'monkey' is not defined"
     ]
    }
   ],
   "source": [
    "monkeys = {}\n",
    "\n",
    "for i in range(0, len(raw_lines), 7):\n",
    "    number = int(raw_lines[i].strip('Monkey ').strip(':\\n'))\n",
    "    monkeys[number] = {}\n",
    "    monkeys[number]['starting_items'] = [int(starting_item) for starting_item in raw_lines[i+1].strip().strip('Starting items :').split(',')]\n",
    "    monkeys[number]['operation'] = raw_lines[i+2].strip().strip('Operation:').strip('new =')\n",
    "    monkeys[number]['div_test'] = int(raw_lines[i+3].strip().split()[-1])\n",
    "    monkey[number]['true_false'] = [int(raw_lines[i+4].split()[-1]), int(raw_lines[i+5].split()[-1])]"
   ]
  },
  {
   "cell_type": "code",
   "execution_count": 7,
   "id": "38e1919d-eac8-4db4-9247-8cd7491db180",
   "metadata": {
    "tags": []
   },
   "outputs": [
    {
     "name": "stdout",
     "output_type": "stream",
     "text": [
      "0\n"
     ]
    },
    {
     "ename": "NameError",
     "evalue": "name 'monkey' is not defined",
     "output_type": "error",
     "traceback": [
      "\u001b[0;31m---------------------------------------------------------------------------\u001b[0m",
      "\u001b[0;31mNameError\u001b[0m                                 Traceback (most recent call last)",
      "\u001b[0;32m/var/folders/j4/9tlhvs6s1jg884qtbbjj64w40000gn/T/ipykernel_506/4168463965.py\u001b[0m in \u001b[0;36m<module>\u001b[0;34m\u001b[0m\n\u001b[1;32m      6\u001b[0m     \u001b[0mprint\u001b[0m\u001b[0;34m(\u001b[0m\u001b[0mi_monkey\u001b[0m\u001b[0;34m)\u001b[0m\u001b[0;34m\u001b[0m\u001b[0;34m\u001b[0m\u001b[0m\n\u001b[1;32m      7\u001b[0m \u001b[0;34m\u001b[0m\u001b[0m\n\u001b[0;32m----> 8\u001b[0;31m     \u001b[0mM\u001b[0m \u001b[0;34m=\u001b[0m \u001b[0mMonkey\u001b[0m\u001b[0;34m(\u001b[0m\u001b[0mi_monkey\u001b[0m\u001b[0;34m,\u001b[0m \u001b[0mworry_level\u001b[0m\u001b[0;34m,\u001b[0m \u001b[0mmonkey\u001b[0m\u001b[0;34m[\u001b[0m\u001b[0mi_monkey\u001b[0m\u001b[0;34m]\u001b[0m\u001b[0;34m)\u001b[0m\u001b[0;34m\u001b[0m\u001b[0;34m\u001b[0m\u001b[0m\n\u001b[0m\u001b[1;32m      9\u001b[0m     \u001b[0mworry_levels\u001b[0m\u001b[0;34m,\u001b[0m \u001b[0mnext_monkeys\u001b[0m \u001b[0;34m=\u001b[0m \u001b[0mM\u001b[0m\u001b[0;34m.\u001b[0m\u001b[0minspects\u001b[0m\u001b[0;34m(\u001b[0m\u001b[0;34m)\u001b[0m\u001b[0;34m\u001b[0m\u001b[0;34m\u001b[0m\u001b[0m\n\u001b[1;32m     10\u001b[0m     \u001b[0mprint\u001b[0m\u001b[0;34m(\u001b[0m\u001b[0mworry_levels\u001b[0m\u001b[0;34m,\u001b[0m \u001b[0mnext_monkeys\u001b[0m\u001b[0;34m)\u001b[0m\u001b[0;34m\u001b[0m\u001b[0;34m\u001b[0m\u001b[0m\n",
      "\u001b[0;31mNameError\u001b[0m: name 'monkey' is not defined"
     ]
    }
   ],
   "source": [
    "N_round = 1\n",
    "worry_level = 0\n",
    "\n",
    "for i_monkey in range(0, len(monkeys)):\n",
    "    \n",
    "    print(i_monkey)\n",
    "        \n",
    "    M = Monkey(i_monkey, worry_level, monkey[i_monkey])\n",
    "    worry_levels, next_monkeys = M.inspects()\n",
    "    print(worry_levels, next_monkeys)\n",
    "    "
   ]
  },
  {
   "cell_type": "code",
   "execution_count": 8,
   "id": "b65ec0a6-4e04-4f41-ac8a-e2b4ea057c16",
   "metadata": {},
   "outputs": [
    {
     "data": {
      "text/plain": [
       "1"
      ]
     },
     "execution_count": 8,
     "metadata": {},
     "output_type": "execute_result"
    }
   ],
   "source": [
    "len(monkeys)"
   ]
  },
  {
   "cell_type": "code",
   "execution_count": 9,
   "id": "9b33ba10-18d2-420b-981b-9d68b309250c",
   "metadata": {},
   "outputs": [
    {
     "data": {
      "text/plain": [
       "1"
      ]
     },
     "execution_count": 9,
     "metadata": {},
     "output_type": "execute_result"
    }
   ],
   "source": [
    "len(monkeys)"
   ]
  },
  {
   "cell_type": "code",
   "execution_count": null,
   "id": "49eaa39e-ad2f-4485-80c0-090a8f904956",
   "metadata": {},
   "outputs": [],
   "source": []
  }
 ],
 "metadata": {
  "kernelspec": {
   "display_name": "Python 3 (ipykernel)",
   "language": "python",
   "name": "python3"
  },
  "language_info": {
   "codemirror_mode": {
    "name": "ipython",
    "version": 3
   },
   "file_extension": ".py",
   "mimetype": "text/x-python",
   "name": "python",
   "nbconvert_exporter": "python",
   "pygments_lexer": "ipython3",
   "version": "3.7.4"
  }
 },
 "nbformat": 4,
 "nbformat_minor": 5
}
