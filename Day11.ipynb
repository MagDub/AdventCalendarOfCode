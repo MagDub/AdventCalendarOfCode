{
 "cells": [
  {
   "cell_type": "code",
   "execution_count": 1,
   "id": "ad5abd4c-159b-4f3f-b403-cecfc42611cb",
   "metadata": {},
   "outputs": [],
   "source": [
    "import math, time, compiler\n",
    "import numpy as np\n",
    "import mpmath as mp\n",
    "from itertools import compress\n",
    "from mpmath import *"
   ]
  },
  {
   "cell_type": "code",
   "execution_count": 2,
   "id": "fe8655fe-fd2e-4d09-9ac9-e4776b4c5267",
   "metadata": {},
   "outputs": [],
   "source": [
    "with open('D11sample.txt') as f:\n",
    "    raw_lines = f.readlines()"
   ]
  },
  {
   "cell_type": "code",
   "execution_count": 3,
   "id": "c039292c-bc30-4713-b24c-63006a923187",
   "metadata": {},
   "outputs": [],
   "source": [
    "class Monkey:\n",
    "    \n",
    "    \n",
    "    def __init__(self, number, worry_level, monkey):\n",
    "        \n",
    "        self.worry_level = worry_level\n",
    "        self.number = number\n",
    "        self.starting_items = monkey['starting_items']\n",
    "        self.operation = monkey['operation']\n",
    "        self.div_test = monkey['div_test']\n",
    "        self.true_false = monkey['true_false']\n",
    "        self.inspected_items = 0\n",
    "        self.compiled_operation = compile(monkey['operation'], '<string>', 'eval')\n",
    "      \n",
    "    def append_starting_items(self, new_item):\n",
    "        \n",
    "        starting_items = self.starting_items\n",
    "        starting_items.append(new_item)\n",
    "        self.starting_items = starting_items\n",
    "\n",
    "    \n",
    "    def inspects_part1(self):\n",
    "        \n",
    "        starting_items = self.starting_items\n",
    "        operation = self.operation\n",
    "        next_monkeys = []\n",
    "        worry_levels = []\n",
    "        inspected_items = self.inspected_items\n",
    "        \n",
    "        for starting_item in starting_items:\n",
    "            \n",
    "            old = starting_item\n",
    "            worry_level = math.floor(eval(self.operation)/3)\n",
    "            worry_levels.append(worry_level)\n",
    "                        \n",
    "            if worry_level % self.div_test == 0:\n",
    "                next_monkeys.append(self.true_false[0])\n",
    "            \n",
    "            else:\n",
    "                next_monkeys.append(self.true_false[1])\n",
    "        \n",
    "        self.starting_items = []\n",
    "        \n",
    "        inspected_items += len(starting_items)\n",
    "        self.inspected_items = inspected_items\n",
    "                \n",
    "        return worry_levels, next_monkeys\n",
    "    \n",
    "    \n",
    "    def inspects(self):\n",
    "                        \n",
    "        starting_items, operation, inspected_items = self.starting_items, self.operation, self.inspected_items\n",
    "        next_monkeys, worry_levels = [], []\n",
    "        \n",
    "        inspected_items += len(starting_items)\n",
    "        \n",
    "        #starting_items = [float(starting_item) for starting_item in starting_items]\n",
    "\n",
    "        worry_levels = [eval(self.compiled_operation) for old in starting_items]\n",
    "\n",
    "        next_monkeys = [self.true_false[1] if worry_level % self.div_test != 0 else self.true_false[0] for worry_level in worry_levels]\n",
    "\n",
    "        self.starting_items = []\n",
    "        self.inspected_items = inspected_items\n",
    "            \n",
    "        return worry_levels, next_monkeys\n",
    "                \n",
    "                \n",
    "            "
   ]
  },
  {
   "cell_type": "code",
   "execution_count": 6,
   "id": "682521af-4252-4905-97f2-7111d5fbd906",
   "metadata": {},
   "outputs": [
    {
     "name": "stdout",
     "output_type": "stream",
     "text": [
      "0.0014719963073730469\n"
     ]
    }
   ],
   "source": [
    "monkeys_str = {}\n",
    "\n",
    "for i in range(0, len(raw_lines), 7):\n",
    "    number = int(raw_lines[i].strip('Monkey ').strip(':\\n'))\n",
    "    monkeys_str[number] = {}\n",
    "    monkeys_str[number]['starting_items'] = [int(starting_item) for starting_item in raw_lines[i+1].strip().strip('Starting items :').split(',')]\n",
    "    monkeys_str[number]['operation'] = raw_lines[i+2].strip().strip('Operation:').strip('new =')\n",
    "    monkeys_str[number]['div_test'] = int(raw_lines[i+3].strip().split()[-1])\n",
    "    monkeys_str[number]['true_false'] = [int(raw_lines[i+4].split()[-1]), int(raw_lines[i+5].split()[-1])]\n",
    "    \n",
    "\n",
    "N_round = 1\n",
    "worry_level = 0\n",
    "\n",
    "# Create list of monkeys\n",
    "monkeys = []\n",
    "for i_monkey in range(0, len(monkeys_str)):\n",
    "    M = Monkey(i_monkey, worry_level, monkeys_str[i_monkey])\n",
    "    monkeys.append(M)\n",
    "    \n",
    "start = time.time()\n",
    "\n",
    "for round_i in range(1,21):\n",
    "    \n",
    "    if round_i % 200 == 0:\n",
    "        print('Round ', round_i)\n",
    "\n",
    "    for i_monkey in range(0, len(monkeys)):\n",
    "\n",
    "        worry_levels, next_monkeys = monkeys[i_monkey].inspects()\n",
    "        \n",
    "        new_items = [list(compress(worry_levels, [monk==item for monk in next_monkeys])) for item in range(0,len(monkeys))]\n",
    "\n",
    "        for next_monkey, worry_levels in enumerate(new_items):\n",
    "            monkeys[next_monkey].starting_items += new_items[next_monkey]\n",
    "        \n",
    "\n",
    "end = time.time()\n",
    "print(end-start)"
   ]
  },
  {
   "cell_type": "code",
   "execution_count": 7,
   "id": "49eaa39e-ad2f-4485-80c0-090a8f904956",
   "metadata": {},
   "outputs": [
    {
     "name": "stdout",
     "output_type": "stream",
     "text": [
      "After round  20\n",
      "[99, 97, 8, 103]\n",
      "Monkey Business = 10197\n"
     ]
    }
   ],
   "source": [
    "print('After round ', round_i)\n",
    "N_inspected_items = []\n",
    "\n",
    "for i_monkey in range(0, len(monkeys)):\n",
    "    #print('Monkey ', i_monkey, ':', monkeys[i_monkey].starting_items)\n",
    "    N_inspected_items.append(monkeys[i_monkey].inspected_items)\n",
    "    \n",
    "print(N_inspected_items)\n",
    "N_inspected_items.sort(reverse=True)\n",
    "monkey_business = N_inspected_items[0] * N_inspected_items[1]\n",
    "print('Monkey Business =', monkey_business)"
   ]
  },
  {
   "cell_type": "code",
   "execution_count": null,
   "id": "fa063c31-5a6e-4b3e-9707-f2d2a9304df3",
   "metadata": {},
   "outputs": [],
   "source": []
  }
 ],
 "metadata": {
  "kernelspec": {
   "display_name": "Python 3 (ipykernel)",
   "language": "python",
   "name": "python3"
  },
  "language_info": {
   "codemirror_mode": {
    "name": "ipython",
    "version": 3
   },
   "file_extension": ".py",
   "mimetype": "text/x-python",
   "name": "python",
   "nbconvert_exporter": "python",
   "pygments_lexer": "ipython3",
   "version": "3.7.4"
  }
 },
 "nbformat": 4,
 "nbformat_minor": 5
}
