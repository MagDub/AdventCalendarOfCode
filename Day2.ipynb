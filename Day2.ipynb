{
 "cells": [
  {
   "cell_type": "markdown",
   "id": "cd7a3b64-9310-4657-81f2-e5657d6dfb0e",
   "metadata": {},
   "source": [
    "# Day 2"
   ]
  },
  {
   "cell_type": "markdown",
   "id": "cdc087a5-6987-446a-83cc-9d1be0e5adc9",
   "metadata": {},
   "source": [
    "### Part 1"
   ]
  },
  {
   "cell_type": "code",
   "execution_count": 177,
   "id": "97a34817-2fa2-485a-b7b8-be0e36b37598",
   "metadata": {},
   "outputs": [],
   "source": [
    "from itertools import cycle, islice"
   ]
  },
  {
   "cell_type": "code",
   "execution_count": 180,
   "id": "a68df4b9-a03f-48ed-a94c-9c24b4a3f072",
   "metadata": {},
   "outputs": [],
   "source": [
    "# Rock, Paper, Scissor cycle\n",
    "RPS_cycle_opp = 'ABC'\n",
    "RPS_cycle_user = 'XYZ'\n",
    "\n",
    "shape_scoring_table = {'X': 1, 'Y': 2, 'Z': 3}\n",
    "outcome_scoring_table = {'lost': 0, 'draw': 3, 'won': 6}\n",
    "\n",
    "N = len(RPS_cycle_opp)\n",
    "rule_table = dict((el, 'draw') for el in [' '.join(i) for i in zip(islice(cycle(RPS_cycle_opp), 0, N), islice(cycle(RPS_cycle_user), 0, N))])\n",
    "rule_table.update(dict((el, 'won') for el in [' '.join(i) for i in zip(islice(cycle(RPS_cycle_opp), 0, N+1), islice(cycle(RPS_cycle_user), 1, N+1))]))\n",
    "rule_table.update(dict((el, 'lost') for el in [' '.join(i) for i in zip(islice(cycle(RPS_cycle_opp), 1, N+1), islice(cycle(RPS_cycle_user), 0, N+1))]))"
   ]
  },
  {
   "cell_type": "code",
   "execution_count": 181,
   "id": "12e6e103-c0e5-4804-b2e7-41271d8fd653",
   "metadata": {},
   "outputs": [
    {
     "data": {
      "text/plain": [
       "11150"
      ]
     },
     "execution_count": 181,
     "metadata": {},
     "output_type": "execute_result"
    }
   ],
   "source": [
    "outcome_score = []\n",
    "shape_score = []\n",
    "\n",
    "with open('D2.txt') as f:\n",
    "    lines = f.readlines()\n",
    "    \n",
    "    for line in lines:\n",
    "        shape_score.append(shape_scoring_table[line.strip()[-1]]) \n",
    "        outcome_score.append(outcome_scoring_table[rule_table[line.strip()]])\n",
    "        \n",
    "sum(outcome_score) + sum(shape_score)"
   ]
  },
  {
   "cell_type": "markdown",
   "id": "db666312-f637-48a8-978b-cdbefbcc9cb3",
   "metadata": {},
   "source": [
    "### Part 2"
   ]
  },
  {
   "cell_type": "code",
   "execution_count": 272,
   "id": "ae645bd2-7a8b-4d62-bb3f-99bb0dd7c4f5",
   "metadata": {},
   "outputs": [],
   "source": [
    "encoding_table = {'X': 'lost', 'Y': 'draw', 'Z': 'won'}"
   ]
  },
  {
   "cell_type": "code",
   "execution_count": 302,
   "id": "2fffcf10-db97-4a78-a24f-711c8e8d90a8",
   "metadata": {},
   "outputs": [],
   "source": [
    "shape_score = []\n",
    "outcome_score = []\n",
    "\n",
    "with open('D2.txt') as f:\n",
    "    lines = f.readlines()\n",
    "    \n",
    "    for line in lines:\n",
    "        \n",
    "        outcome = encoding_table[line.strip()[-1]]\n",
    "\n",
    "        poss_seq = [k for k,v in rule_table.items() if v == outcome]\n",
    "\n",
    "        action_opp = line.strip()[0]\n",
    "        action_user = [seq[-1] for seq in poss_seq if action_opp in seq][0]\n",
    "\n",
    "        outcome_score.append(outcome_scoring_table[outcome])\n",
    "        shape_score.append(shape_scoring_table[action_user])"
   ]
  },
  {
   "cell_type": "code",
   "execution_count": 303,
   "id": "afb807d9-429f-4450-b658-ae8cf469de25",
   "metadata": {},
   "outputs": [
    {
     "data": {
      "text/plain": [
       "8295"
      ]
     },
     "execution_count": 303,
     "metadata": {},
     "output_type": "execute_result"
    }
   ],
   "source": [
    "sum(outcome_score) + sum(shape_score)"
   ]
  },
  {
   "cell_type": "code",
   "execution_count": null,
   "id": "6349ec3e-8e43-4316-b561-624b0b5cfdc9",
   "metadata": {},
   "outputs": [],
   "source": []
  }
 ],
 "metadata": {
  "kernelspec": {
   "display_name": "Python 3 (ipykernel)",
   "language": "python",
   "name": "python3"
  },
  "language_info": {
   "codemirror_mode": {
    "name": "ipython",
    "version": 3
   },
   "file_extension": ".py",
   "mimetype": "text/x-python",
   "name": "python",
   "nbconvert_exporter": "python",
   "pygments_lexer": "ipython3",
   "version": "3.7.4"
  }
 },
 "nbformat": 4,
 "nbformat_minor": 5
}
