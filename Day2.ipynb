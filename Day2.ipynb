{
 "cells": [
  {
   "cell_type": "markdown",
   "id": "cd7a3b64-9310-4657-81f2-e5657d6dfb0e",
   "metadata": {},
   "source": [
    "# Day 2"
   ]
  },
  {
   "cell_type": "markdown",
   "id": "cdc087a5-6987-446a-83cc-9d1be0e5adc9",
   "metadata": {},
   "source": [
    "### Part 1"
   ]
  },
  {
   "cell_type": "code",
   "execution_count": 147,
   "id": "1d6e309b-5f87-4b40-8d97-bf36a9c8c48d",
   "metadata": {},
   "outputs": [],
   "source": [
    "# 1st col: Opponent\n",
    "# A: rock, B: paper, C: scissors\n",
    "\n",
    "# 2nd col: You\n",
    "# X: rock, Y: paper, Z: scissors\n",
    "\n",
    "# Score: shape + outcome\n",
    "# Shape: X: 1, Y: 2, Z: 3\n",
    "# Outcome: Lost: 0, Draw: 3, Won: 6\n",
    "\n",
    "# Use from itertools import cycle?"
   ]
  },
  {
   "cell_type": "code",
   "execution_count": 148,
   "id": "cb0515f4-8577-49d2-b541-521e48e9138a",
   "metadata": {},
   "outputs": [],
   "source": [
    "with open('D2.txt') as f:\n",
    "    lines = f.readlines()"
   ]
  },
  {
   "cell_type": "code",
   "execution_count": 149,
   "id": "21b25521-fb8f-412c-a9aa-50525b503a3d",
   "metadata": {},
   "outputs": [],
   "source": [
    "order_opp = 'ABC'\n",
    "order_user = 'XYZ'\n",
    "\n",
    "shape_scoring_table = {'X': 1, 'Y': 2, 'Z': 3}\n",
    "outcome_scoring_table = {'lost': 0, 'draw': 3, 'won': 6}"
   ]
  },
  {
   "cell_type": "code",
   "execution_count": 150,
   "id": "8e42bc72-5bc4-4e43-8729-5b4a88354d43",
   "metadata": {},
   "outputs": [],
   "source": [
    "shape_score = []\n",
    "outcome_score = []\n",
    "\n",
    "for line in lines:\n",
    "    shape_score.append(shape_scoring[line.strip()[-1]])    \n",
    "    \n",
    "    cycle_pos_user = order_user.index(line.strip()[-1])\n",
    "    cycle_pos_opp = order_opp.index(line.strip()[0])\n",
    "\n",
    "    if cycle_pos_user == cycle_pos_opp:\n",
    "        outcome_score.append(outcome_scoring_table['draw'])\n",
    "    elif (cycle_pos_user == cycle_pos_opp + 1) or (cycle_pos_opp == 2 and cycle_pos_user == 0):\n",
    "        outcome_score.append(outcome_scoring_table['won'])\n",
    "    else:\n",
    "        outcome_score.append(outcome_scoring_table['lost'])"
   ]
  },
  {
   "cell_type": "code",
   "execution_count": 151,
   "id": "5b434140-5b55-40a4-a242-5d10b31cba02",
   "metadata": {},
   "outputs": [
    {
     "data": {
      "text/plain": [
       "11150"
      ]
     },
     "execution_count": 151,
     "metadata": {},
     "output_type": "execute_result"
    }
   ],
   "source": [
    "sum(outcome_score) + sum(shape_score)"
   ]
  },
  {
   "cell_type": "markdown",
   "id": "db666312-f637-48a8-978b-cdbefbcc9cb3",
   "metadata": {},
   "source": [
    "### Part 2"
   ]
  },
  {
   "cell_type": "code",
   "execution_count": null,
   "id": "ae645bd2-7a8b-4d62-bb3f-99bb0dd7c4f5",
   "metadata": {},
   "outputs": [],
   "source": []
  }
 ],
 "metadata": {
  "kernelspec": {
   "display_name": "Python 3 (ipykernel)",
   "language": "python",
   "name": "python3"
  },
  "language_info": {
   "codemirror_mode": {
    "name": "ipython",
    "version": 3
   },
   "file_extension": ".py",
   "mimetype": "text/x-python",
   "name": "python",
   "nbconvert_exporter": "python",
   "pygments_lexer": "ipython3",
   "version": "3.7.4"
  }
 },
 "nbformat": 4,
 "nbformat_minor": 5
}
