{
 "cells": [
  {
   "cell_type": "markdown",
   "id": "f9fe86eb-9445-4b09-b525-cb70a80a7ea9",
   "metadata": {},
   "source": [
    "# Day 3"
   ]
  },
  {
   "cell_type": "markdown",
   "id": "f1293e8b-45a6-4d8b-a37d-8a0f31824319",
   "metadata": {},
   "source": [
    "### Part 1 "
   ]
  },
  {
   "cell_type": "code",
   "execution_count": 159,
   "id": "800a9d4d-61d7-4643-b934-3623a2f9f9d6",
   "metadata": {},
   "outputs": [],
   "source": [
    "with open('D3.txt') as f:\n",
    "    lines = f.readlines()"
   ]
  },
  {
   "cell_type": "code",
   "execution_count": 162,
   "id": "f27df08a-021d-40fd-a231-ef50f5db2ecb",
   "metadata": {},
   "outputs": [],
   "source": [
    "def get_priority(letter):\n",
    "    if ord(letter)>=ord('a'):\n",
    "        return ord(letter) - ord('a') + 1\n",
    "    else:\n",
    "        return ord(letter) - ord('A') + 27"
   ]
  },
  {
   "cell_type": "code",
   "execution_count": 195,
   "id": "03fb619f-0e22-4bc6-b348-9a4551205038",
   "metadata": {},
   "outputs": [
    {
     "data": {
      "text/plain": [
       "7917"
      ]
     },
     "execution_count": 195,
     "metadata": {},
     "output_type": "execute_result"
    }
   ],
   "source": [
    "priorities = []\n",
    "\n",
    "for line in lines:\n",
    "    rucksack = line.strip()\n",
    "    compartments = [rucksack[0:int(len(rucksack)/2)], rucksack[int(len(rucksack)/2)::]]\n",
    "    common_el = list(set(compartments[0]) & set(compartments[1]))[0]\n",
    "    priorities.append(get_priority(common_el))\n",
    "\n",
    "sum(priorities)"
   ]
  },
  {
   "cell_type": "markdown",
   "id": "36b9da83-8289-45e8-9b58-330ee574a1a8",
   "metadata": {},
   "source": [
    "### Part 2"
   ]
  },
  {
   "cell_type": "code",
   "execution_count": 202,
   "id": "042a8c0e-e926-4a67-ac7a-4bd2c4c46a04",
   "metadata": {},
   "outputs": [],
   "source": [
    "rucksacks = []\n",
    "for line in lines:\n",
    "    rucksacks.append(line.strip())"
   ]
  },
  {
   "cell_type": "code",
   "execution_count": 203,
   "id": "946bff22-bf7e-44b0-ab45-8aac70a40084",
   "metadata": {},
   "outputs": [
    {
     "data": {
      "text/plain": [
       "2585"
      ]
     },
     "execution_count": 203,
     "metadata": {},
     "output_type": "execute_result"
    }
   ],
   "source": [
    "priorities = []\n",
    "\n",
    "for i in range(0,len(rucksacks),3):\n",
    "    \n",
    "    elf_group = rucksacks[i:i+3]\n",
    "        \n",
    "    badge = list(set(elf_group[0]) & set(elf_group[1]) & set(elf_group[2]))[0]\n",
    "    \n",
    "    priorities.append(get_priority(badge))\n",
    "    \n",
    "sum(priorities)   "
   ]
  },
  {
   "cell_type": "code",
   "execution_count": null,
   "id": "e5aeb040-ec90-43c7-a0b5-6f392f560b27",
   "metadata": {},
   "outputs": [],
   "source": []
  }
 ],
 "metadata": {
  "kernelspec": {
   "display_name": "Python 3 (ipykernel)",
   "language": "python",
   "name": "python3"
  },
  "language_info": {
   "codemirror_mode": {
    "name": "ipython",
    "version": 3
   },
   "file_extension": ".py",
   "mimetype": "text/x-python",
   "name": "python",
   "nbconvert_exporter": "python",
   "pygments_lexer": "ipython3",
   "version": "3.7.4"
  }
 },
 "nbformat": 4,
 "nbformat_minor": 5
}
