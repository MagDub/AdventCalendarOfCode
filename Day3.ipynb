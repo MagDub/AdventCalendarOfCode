{
 "cells": [
  {
   "cell_type": "markdown",
   "id": "f9fe86eb-9445-4b09-b525-cb70a80a7ea9",
   "metadata": {},
   "source": [
    "# Day 3"
   ]
  },
  {
   "cell_type": "markdown",
   "id": "f1293e8b-45a6-4d8b-a37d-8a0f31824319",
   "metadata": {},
   "source": [
    "### Part 1 "
   ]
  },
  {
   "cell_type": "code",
   "execution_count": 128,
   "id": "03fb619f-0e22-4bc6-b348-9a4551205038",
   "metadata": {},
   "outputs": [],
   "source": [
    "with open('D3.txt') as f:\n",
    "    lines = f.readlines()\n",
    "    \n",
    "    priorities = []\n",
    "    \n",
    "    for line in lines:\n",
    "        rucksack = line.strip()\n",
    "        compartments = [rucksack[0:int(len(rucksack)/2)], rucksack[int(len(rucksack)/2)::]]\n",
    "        common_el = list(set(compartments[0]) & set(compartments[1]))[0]\n",
    "\n",
    "        if ord(common_el)>=ord('a'):\n",
    "            priorities.append(ord(common_el) - ord('a') + 1)\n",
    "        else:\n",
    "            priorities.append(ord(common_el) - ord('A') + 27)\n",
    "    "
   ]
  },
  {
   "cell_type": "code",
   "execution_count": null,
   "id": "0126747d-7531-4f30-a00d-0a5d34c21195",
   "metadata": {},
   "outputs": [],
   "source": []
  }
 ],
 "metadata": {
  "kernelspec": {
   "display_name": "Python 3 (ipykernel)",
   "language": "python",
   "name": "python3"
  },
  "language_info": {
   "codemirror_mode": {
    "name": "ipython",
    "version": 3
   },
   "file_extension": ".py",
   "mimetype": "text/x-python",
   "name": "python",
   "nbconvert_exporter": "python",
   "pygments_lexer": "ipython3",
   "version": "3.7.4"
  }
 },
 "nbformat": 4,
 "nbformat_minor": 5
}
