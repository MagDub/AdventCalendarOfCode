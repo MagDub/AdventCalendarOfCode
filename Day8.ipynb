{
 "cells": [
  {
   "cell_type": "code",
   "execution_count": 2,
   "id": "e698d97c-a404-4ee4-ac2d-91ca9bd97932",
   "metadata": {},
   "outputs": [],
   "source": [
    "import numpy as np\n",
    "import copy"
   ]
  },
  {
   "cell_type": "code",
   "execution_count": 3,
   "id": "fa99359f-0422-45ce-9ffc-5298ef6e5daa",
   "metadata": {},
   "outputs": [],
   "source": [
    "with open('D8.txt') as f:\n",
    "    raw_lines = f.readlines()"
   ]
  },
  {
   "cell_type": "code",
   "execution_count": 4,
   "id": "5cf11be6-77bd-4071-ad6a-c55bbfff681e",
   "metadata": {},
   "outputs": [],
   "source": [
    "lines = []\n",
    "for line in raw_lines:\n",
    "    lines.append(line.strip())"
   ]
  },
  {
   "cell_type": "code",
   "execution_count": 25,
   "id": "5fab9622-b3bd-439c-8c7c-2564292a1439",
   "metadata": {},
   "outputs": [],
   "source": [
    "lines = ['30373',\n",
    "         '25512',\n",
    "         '65332',\n",
    "         '33549', \n",
    "         '35390']"
   ]
  },
  {
   "cell_type": "code",
   "execution_count": 14,
   "id": "53e462fb-8ded-438c-bcca-0d12770c612f",
   "metadata": {},
   "outputs": [],
   "source": [
    "def get_visible_1d(forest):\n",
    "    \n",
    "    visible_rows = []\n",
    "    visible_trees = []\n",
    "\n",
    "    for i_row, row in enumerate(forest):\n",
    "\n",
    "        # up-down sides\n",
    "        if i_row == 0 or i_row == len(forest)-1:\n",
    "            for i_tree, tree in enumerate(row):\n",
    "                visible_trees.append([i_row,i_tree])\n",
    "\n",
    "        else:\n",
    "\n",
    "            for i_tree, tree in enumerate(row):\n",
    "\n",
    "                ## right visible \n",
    "                if all([tree > other_tree for other_tree in row[i_tree+1::]]) == True:\n",
    "                    visible_trees.append([i_row,i_tree])\n",
    "\n",
    "                ## left visible\n",
    "                if all([tree > other_tree for other_tree in row[0:i_tree]]):\n",
    "                    visible_trees.append([i_row,i_tree])\n",
    "                    \n",
    "    return visible_trees"
   ]
  },
  {
   "cell_type": "markdown",
   "id": "48230990-0870-4aa6-8bca-dd70fe539631",
   "metadata": {},
   "source": [
    "### Part 1"
   ]
  },
  {
   "cell_type": "code",
   "execution_count": 21,
   "id": "7bc4864b-08ba-4347-9afc-f77836a393ef",
   "metadata": {},
   "outputs": [],
   "source": [
    "forest = [[int(tree) for tree in line] for line in lines]\n",
    "hidden = copy.deepcopy(forest)"
   ]
  },
  {
   "cell_type": "code",
   "execution_count": 16,
   "id": "a662eddf-8245-45ea-bbaa-852084f55cbc",
   "metadata": {},
   "outputs": [],
   "source": [
    "visible_idx = get_visible_1d(hidden)\n",
    "visible_idx_t = get_visible_1d([list(i) for i in zip(*hidden)])"
   ]
  },
  {
   "cell_type": "code",
   "execution_count": 17,
   "id": "b1aa78ca-facf-4d2c-9c7f-79535acd5811",
   "metadata": {},
   "outputs": [],
   "source": [
    "for id_row, id_col in visible_idx:\n",
    "    hidden[id_row][id_col] = np.nan\n",
    "    \n",
    "for id_col, id_row in visible_idx_t:\n",
    "    hidden[id_row][id_col] = np.nan"
   ]
  },
  {
   "cell_type": "code",
   "execution_count": 18,
   "id": "65124082-234a-4db3-b3c2-603439fba799",
   "metadata": {},
   "outputs": [],
   "source": [
    "visible = 0\n",
    "for row in hidden:\n",
    "    for tree in row:\n",
    "        visible += int(np.isnan(tree))"
   ]
  },
  {
   "cell_type": "code",
   "execution_count": 19,
   "id": "42a86b8c-7aa0-4a29-8144-f53d0a556e77",
   "metadata": {},
   "outputs": [
    {
     "data": {
      "text/plain": [
       "21"
      ]
     },
     "execution_count": 19,
     "metadata": {},
     "output_type": "execute_result"
    }
   ],
   "source": [
    "visible"
   ]
  },
  {
   "cell_type": "markdown",
   "id": "df1e0d68-4fc7-416b-b71c-158057f1a74b",
   "metadata": {},
   "source": [
    "### Part 2"
   ]
  },
  {
   "cell_type": "code",
   "execution_count": 64,
   "id": "84f8596c-7eb6-40ca-ad03-671f3a825dd5",
   "metadata": {},
   "outputs": [],
   "source": [
    "def get_n_visible_trees(direction_map):\n",
    "    \n",
    "    if 0 in direction_map:\n",
    "        N_can_see = direction_map.index(0)+1\n",
    "    else:\n",
    "        N_can_see = len(direction_map)\n",
    "   \n",
    "    return N_can_see"
   ]
  },
  {
   "cell_type": "code",
   "execution_count": 65,
   "id": "53f884f5-0988-478d-ae6f-d5389b86b3cf",
   "metadata": {},
   "outputs": [],
   "source": [
    "scenic_score = []\n",
    "\n",
    "for y, row in enumerate(lines):\n",
    "    \n",
    "    for x, tree in enumerate(row):\n",
    "        \n",
    "        if y>0 and y<(len(row)-1) and x>0 and x<(len(row)-1):\n",
    "            \n",
    "            # left view - can see\n",
    "            direction_map_left = [int(int(tree)>int(other_tree)) for other_tree in lines[y][0:x]][::-1]\n",
    "            N_can_see_left = get_n_visible_trees(direction_map_left)\n",
    "\n",
    "            # right view - can see\n",
    "            direction_map_right = [int(int(tree)>int(other_tree)) for other_tree in lines[y][x+1::]]\n",
    "            N_can_see_right = get_n_visible_trees(direction_map_right)\n",
    "\n",
    "            # up view - can see\n",
    "            direction_map_up = [int(int(tree)>int(other_tree)) for other_tree in [list(i) for i in zip(*lines)][x][0:y][::-1]]\n",
    "            N_can_see_up = get_n_visible_trees(direction_map_up)\n",
    "\n",
    "            # down view - can see\n",
    "            direction_map_down = [int(int(tree)>int(other_tree)) for other_tree in [list(i) for i in zip(*lines)][x][y+1::]]\n",
    "            N_can_see_down = get_n_visible_trees(direction_map_down)\n",
    "\n",
    "            scenic_score.append(N_can_see_left * N_can_see_right * N_can_see_up * N_can_see_down)\n",
    "        "
   ]
  },
  {
   "cell_type": "code",
   "execution_count": 67,
   "id": "32ab8cb0-ad1a-4a39-8675-4d7c5540e911",
   "metadata": {},
   "outputs": [
    {
     "data": {
      "text/plain": [
       "8"
      ]
     },
     "execution_count": 67,
     "metadata": {},
     "output_type": "execute_result"
    }
   ],
   "source": [
    "max(scenic_score)"
   ]
  },
  {
   "cell_type": "code",
   "execution_count": null,
   "id": "bbf719d8-7dd4-4822-97b0-fe3124b04813",
   "metadata": {},
   "outputs": [],
   "source": []
  }
 ],
 "metadata": {
  "kernelspec": {
   "display_name": "Python 3 (ipykernel)",
   "language": "python",
   "name": "python3"
  },
  "language_info": {
   "codemirror_mode": {
    "name": "ipython",
    "version": 3
   },
   "file_extension": ".py",
   "mimetype": "text/x-python",
   "name": "python",
   "nbconvert_exporter": "python",
   "pygments_lexer": "ipython3",
   "version": "3.7.4"
  }
 },
 "nbformat": 4,
 "nbformat_minor": 5
}
