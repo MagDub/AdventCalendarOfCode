{
 "cells": [
  {
   "cell_type": "code",
   "execution_count": 63,
   "id": "e698d97c-a404-4ee4-ac2d-91ca9bd97932",
   "metadata": {},
   "outputs": [],
   "source": [
    "import numpy as np\n",
    "import copy"
   ]
  },
  {
   "cell_type": "code",
   "execution_count": 74,
   "id": "fa99359f-0422-45ce-9ffc-5298ef6e5daa",
   "metadata": {},
   "outputs": [],
   "source": [
    "with open('D8.txt') as f:\n",
    "    raw_lines = f.readlines()"
   ]
  },
  {
   "cell_type": "code",
   "execution_count": 75,
   "id": "5cf11be6-77bd-4071-ad6a-c55bbfff681e",
   "metadata": {},
   "outputs": [],
   "source": [
    "lines = []\n",
    "for line in raw_lines:\n",
    "    lines.append(line.strip())"
   ]
  },
  {
   "cell_type": "raw",
   "id": "63ee4260-ca61-4161-9fe4-43d58daebaf1",
   "metadata": {},
   "source": [
    "lines = ['30373',\n",
    "         '25512',\n",
    "         '65332',\n",
    "         '33549', \n",
    "         '35390']"
   ]
  },
  {
   "cell_type": "code",
   "execution_count": 67,
   "id": "53e462fb-8ded-438c-bcca-0d12770c612f",
   "metadata": {},
   "outputs": [],
   "source": [
    "def get_visible_1d(forest):\n",
    "    \n",
    "    visible_rows = []\n",
    "    visible_trees = []\n",
    "\n",
    "    for i_row, row in enumerate(forest):\n",
    "\n",
    "        # up-down sides\n",
    "        if i_row == 0 or i_row == len(forest)-1:\n",
    "            for i_tree, tree in enumerate(row):\n",
    "                visible_trees.append([i_row,i_tree])\n",
    "\n",
    "        else:\n",
    "\n",
    "            for i_tree, tree in enumerate(row):\n",
    "\n",
    "                ## right visible \n",
    "                if all([tree > other_tree for other_tree in row[i_tree+1::]]) == True:\n",
    "                    visible_trees.append([i_row,i_tree])\n",
    "\n",
    "                ## left visible\n",
    "                if all([tree > other_tree for other_tree in row[0:i_tree]]):\n",
    "                    visible_trees.append([i_row,i_tree])\n",
    "                    \n",
    "    return visible_trees"
   ]
  },
  {
   "cell_type": "code",
   "execution_count": 68,
   "id": "7bc4864b-08ba-4347-9afc-f77836a393ef",
   "metadata": {},
   "outputs": [],
   "source": [
    "forest = [[int(tree) for tree in line] for line in lines]\n",
    "hidden = copy.deepcopy(forest)"
   ]
  },
  {
   "cell_type": "code",
   "execution_count": 69,
   "id": "a662eddf-8245-45ea-bbaa-852084f55cbc",
   "metadata": {},
   "outputs": [],
   "source": [
    "visible_idx = get_visible_1d(hidden)\n",
    "visible_idx_t = get_visible_1d([list(i) for i in zip(*hidden)])"
   ]
  },
  {
   "cell_type": "code",
   "execution_count": 70,
   "id": "b1aa78ca-facf-4d2c-9c7f-79535acd5811",
   "metadata": {},
   "outputs": [],
   "source": [
    "for id_row, id_col in visible_idx:\n",
    "    hidden[id_row][id_col] = np.nan\n",
    "    \n",
    "for id_col, id_row in visible_idx_t:\n",
    "    hidden[id_row][id_col] = np.nan"
   ]
  },
  {
   "cell_type": "code",
   "execution_count": 72,
   "id": "65124082-234a-4db3-b3c2-603439fba799",
   "metadata": {},
   "outputs": [],
   "source": [
    "visible = 0\n",
    "for row in hidden:\n",
    "    for tree in row:\n",
    "        visible += int(np.isnan(tree))"
   ]
  },
  {
   "cell_type": "code",
   "execution_count": 73,
   "id": "42a86b8c-7aa0-4a29-8144-f53d0a556e77",
   "metadata": {},
   "outputs": [
    {
     "data": {
      "text/plain": [
       "1796"
      ]
     },
     "execution_count": 73,
     "metadata": {},
     "output_type": "execute_result"
    }
   ],
   "source": [
    "visible"
   ]
  },
  {
   "cell_type": "code",
   "execution_count": null,
   "id": "13665b32-cbff-460c-aa88-e609151750eb",
   "metadata": {},
   "outputs": [],
   "source": []
  }
 ],
 "metadata": {
  "kernelspec": {
   "display_name": "Python 3 (ipykernel)",
   "language": "python",
   "name": "python3"
  },
  "language_info": {
   "codemirror_mode": {
    "name": "ipython",
    "version": 3
   },
   "file_extension": ".py",
   "mimetype": "text/x-python",
   "name": "python",
   "nbconvert_exporter": "python",
   "pygments_lexer": "ipython3",
   "version": "3.7.4"
  }
 },
 "nbformat": 4,
 "nbformat_minor": 5
}
