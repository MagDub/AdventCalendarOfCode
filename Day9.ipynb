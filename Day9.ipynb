{
 "cells": [
  {
   "cell_type": "code",
   "execution_count": 6,
   "id": "ddedbb6c-4fb7-42d3-8aa2-02b06b0c07a1",
   "metadata": {},
   "outputs": [],
   "source": [
    "import math"
   ]
  },
  {
   "cell_type": "code",
   "execution_count": 7,
   "id": "d86a60bd-1888-417b-8229-388c7ea2e639",
   "metadata": {},
   "outputs": [],
   "source": [
    "with open('D9.txt') as f:\n",
    "    raw_lines = f.readlines()\n",
    "\n",
    "lines = []\n",
    "for line in raw_lines:\n",
    "    lines.append(line.strip())"
   ]
  },
  {
   "cell_type": "raw",
   "id": "7c03ffd1-134a-485d-ba28-4f80eda5c8a2",
   "metadata": {},
   "source": [
    "lines = ['R 4', \n",
    "         'U 4',\n",
    "         'L 3',\n",
    "         'D 1',\n",
    "         'R 4', \n",
    "         'D 1', \n",
    "         'L 5', \n",
    "         'R 2']"
   ]
  },
  {
   "cell_type": "code",
   "execution_count": 8,
   "id": "b30b918d-7b06-40a8-ac80-2ef3af324748",
   "metadata": {},
   "outputs": [],
   "source": [
    "class Bridge:\n",
    "    \n",
    "    \n",
    "    def __init__(self, init_position):\n",
    "        self.state = [['.' for i in range(0,1000)] for i in range(0,1000)]\n",
    "        self.position_H = init_position.copy()\n",
    "        self.position_T = init_position.copy()\n",
    "        self.all_positions_T = []\n",
    "        self.state[self.position_H[0]][self.position_H[1]] = 'H'\n",
    "        self.state[self.position_T[0]][self.position_T[1]] = 'T'\n",
    "    \n",
    "    \n",
    "    def get_state(self):\n",
    "        return self.state\n",
    "    \n",
    "    \n",
    "    def get_all_positions_T(self):\n",
    "        return self.all_positions_T\n",
    "    \n",
    "    \n",
    "    def set_positions(self):\n",
    "        self.all_positions_T.append(self.position_T)\n",
    "        self.state[self.position_T[0]][self.position_T[1]] = 'T'      \n",
    "        self.state[self.position_H[0]][self.position_H[1]] = 'H'            \n",
    "    \n",
    "    \n",
    "    def move_H(self, direction):\n",
    "        \n",
    "        pos_H = self.position_H.copy()\n",
    "        pos_T = self.position_T.copy()\n",
    "                \n",
    "        if direction == 'R':\n",
    "            pos_H[1] += 1\n",
    "            \n",
    "        elif direction == 'L':\n",
    "            pos_H[1] -= 1\n",
    "\n",
    "        elif direction == 'U':\n",
    "            pos_H[0] -= 1\n",
    "\n",
    "        elif direction == 'D':\n",
    "            pos_H[0] += 1\n",
    "        \n",
    "        squared_hypo = (pos_H[1] - pos_T[1])**2 + (pos_H[0] - pos_T[0])**2\n",
    "            \n",
    "        if squared_hypo > 2:\n",
    "            self.position_T = self.position_H\n",
    "            self.position_H = pos_H\n",
    "            \n",
    "        else:\n",
    "            self.position_H = pos_H\n",
    "            \n",
    "        self.set_positions()\n",
    "         "
   ]
  },
  {
   "cell_type": "code",
   "execution_count": 9,
   "id": "b898c3a7-91df-4793-b693-dfadb126290d",
   "metadata": {},
   "outputs": [],
   "source": [
    "init_position = [5,0]\n",
    "B = Bridge(init_position)\n",
    "\n",
    "for i, line in enumerate(lines):\n",
    "            \n",
    "    direc = line[0]\n",
    "    steps = int(line[2::])\n",
    "    \n",
    "    for i in range(0,steps):\n",
    "        B.move_H(direc)"
   ]
  },
  {
   "cell_type": "code",
   "execution_count": 10,
   "id": "9feaeeb0-d70a-4ade-8155-9af5ae73e31e",
   "metadata": {},
   "outputs": [
    {
     "data": {
      "text/plain": [
       "5883"
      ]
     },
     "execution_count": 10,
     "metadata": {},
     "output_type": "execute_result"
    }
   ],
   "source": [
    "all_pos = B.get_all_positions_T()\n",
    "unique_T_positions = len(set(tuple(row) for row in all_pos))\n",
    "unique_T_positions"
   ]
  },
  {
   "cell_type": "code",
   "execution_count": null,
   "id": "babfda6f-857d-4fec-934a-3776b0c24caf",
   "metadata": {},
   "outputs": [],
   "source": []
  }
 ],
 "metadata": {
  "kernelspec": {
   "display_name": "Python 3 (ipykernel)",
   "language": "python",
   "name": "python3"
  },
  "language_info": {
   "codemirror_mode": {
    "name": "ipython",
    "version": 3
   },
   "file_extension": ".py",
   "mimetype": "text/x-python",
   "name": "python",
   "nbconvert_exporter": "python",
   "pygments_lexer": "ipython3",
   "version": "3.7.4"
  }
 },
 "nbformat": 4,
 "nbformat_minor": 5
}
