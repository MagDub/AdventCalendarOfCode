{
 "cells": [
  {
   "cell_type": "code",
   "execution_count": 3,
   "id": "d86a60bd-1888-417b-8229-388c7ea2e639",
   "metadata": {},
   "outputs": [],
   "source": [
    "with open('D9.txt') as f:\n",
    "    raw_lines = f.readlines()\n",
    "\n",
    "lines = []\n",
    "for line in raw_lines:\n",
    "    lines.append(line.strip())"
   ]
  },
  {
   "cell_type": "code",
   "execution_count": 5,
   "id": "e81fffc5-ff7b-4248-b1d9-0c46f0c11be0",
   "metadata": {},
   "outputs": [],
   "source": [
    "lines = ['R 4', \n",
    "         'U 4',\n",
    "         'L 3',\n",
    "         'D 1',\n",
    "         'R 4', \n",
    "         'D 1', \n",
    "         'L 5', \n",
    "         'R 2']"
   ]
  },
  {
   "cell_type": "code",
   "execution_count": 8,
   "id": "dc61d7b4-b10b-4b10-839b-bf4d404fc923",
   "metadata": {},
   "outputs": [
    {
     "name": "stdout",
     "output_type": "stream",
     "text": [
      "[5, 1] [4, 1]\n"
     ]
    }
   ],
   "source": [
    "H = [1,1]\n",
    "T = [1,1]\n",
    "\n",
    "R = 4\n",
    "\n",
    "# Right\n",
    "H[0] += R\n",
    "T[0] += (R-1)\n",
    "\n",
    "print(H, T)"
   ]
  },
  {
   "cell_type": "code",
   "execution_count": 12,
   "id": "bc211484-f9e3-4f54-854f-4f33ba7a3679",
   "metadata": {},
   "outputs": [
    {
     "name": "stdout",
     "output_type": "stream",
     "text": [
      "[5, 13] [5, 4]\n"
     ]
    }
   ],
   "source": [
    "U = 4\n",
    "\n",
    "# Up\n",
    "H[1] += U\n",
    "\n",
    "T[0] = H[0]\n",
    "T[1] += (U-1)\n",
    "\n",
    "print(H, T)"
   ]
  },
  {
   "cell_type": "code",
   "execution_count": 164,
   "id": "fcd0991f-3667-481e-aab8-00cf89fb48e5",
   "metadata": {},
   "outputs": [],
   "source": [
    "def move(direction, steps, position, state):\n",
    "    \n",
    "    for i in range(0,steps):\n",
    "         \n",
    "        if direction == 'R':\n",
    "            position[1] = position[1]+1\n",
    "\n",
    "        elif direction == 'L':\n",
    "            position[1] = position[1]-1\n",
    "\n",
    "        elif direction == 'U':\n",
    "            position[0] = position[0]-1\n",
    "\n",
    "        elif direction == 'D':\n",
    "            position[0] = position[0]+1\n",
    "\n",
    "        state[position[0]][position[1]] = 'H'\n",
    "        \n",
    "    return state"
   ]
  },
  {
   "cell_type": "code",
   "execution_count": 166,
   "id": "6db3b3a3-1033-4aa9-8650-655a9afd168a",
   "metadata": {},
   "outputs": [
    {
     "data": {
      "text/plain": [
       "[['.', '.', '.', '.', '.', '.'],\n",
       " ['.', '.', '.', '.', 'H', '.'],\n",
       " ['H', 'H', 'H', 'H', 'H', 'H'],\n",
       " ['.', '.', '.', '.', 'H', '.'],\n",
       " ['.', '.', '.', '.', 'H', '.'],\n",
       " ['H', 'H', 'H', 'H', 'H', '.']]"
      ]
     },
     "execution_count": 166,
     "metadata": {},
     "output_type": "execute_result"
    }
   ],
   "source": [
    "state = [['.' for i in range(0,6)] for i in range(0,6)]\n",
    "\n",
    "position = [5,0]\n",
    "state[position[0]][position[1]] = 'H'\n",
    "\n",
    "state = move('R', 4, position, state)\n",
    "state = move('U', 4, position, state)\n",
    "state = move('D', 1, position, state)\n",
    "state = move('L', 5, position, state)\n",
    "state = move('R', 2, position, state)\n",
    "state"
   ]
  },
  {
   "cell_type": "code",
   "execution_count": null,
   "id": "ca81ea2b-2db3-4246-9db7-5378a0a24818",
   "metadata": {},
   "outputs": [],
   "source": []
  },
  {
   "cell_type": "code",
   "execution_count": null,
   "id": "eaf9ba67-0e36-4995-a953-3a28483387ac",
   "metadata": {},
   "outputs": [],
   "source": [
    "[1,1]\n",
    "tail[0,0] = tail[1,1]"
   ]
  }
 ],
 "metadata": {
  "kernelspec": {
   "display_name": "Python 3 (ipykernel)",
   "language": "python",
   "name": "python3"
  },
  "language_info": {
   "codemirror_mode": {
    "name": "ipython",
    "version": 3
   },
   "file_extension": ".py",
   "mimetype": "text/x-python",
   "name": "python",
   "nbconvert_exporter": "python",
   "pygments_lexer": "ipython3",
   "version": "3.7.4"
  }
 },
 "nbformat": 4,
 "nbformat_minor": 5
}
