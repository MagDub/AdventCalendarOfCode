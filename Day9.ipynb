{
 "cells": [
  {
   "cell_type": "code",
   "execution_count": 1,
   "id": "d86a60bd-1888-417b-8229-388c7ea2e639",
   "metadata": {},
   "outputs": [],
   "source": [
    "with open('D9.txt') as f:\n",
    "    raw_lines = f.readlines()\n",
    "\n",
    "lines = []\n",
    "for line in raw_lines:\n",
    "    lines.append(line.strip())"
   ]
  },
  {
   "cell_type": "code",
   "execution_count": 13,
   "id": "fa7ed577-c300-484a-9ef0-3b9357bd6b8b",
   "metadata": {},
   "outputs": [],
   "source": [
    "lines = ['R 5', \n",
    "         'U 8',\n",
    "         'L 8',\n",
    "         'D 3',\n",
    "         'R 17', \n",
    "         'D 10', \n",
    "         'L 25', \n",
    "         'R 20']"
   ]
  },
  {
   "cell_type": "code",
   "execution_count": 49,
   "id": "b30b918d-7b06-40a8-ac80-2ef3af324748",
   "metadata": {},
   "outputs": [],
   "source": [
    "class Bridge:\n",
    "    \n",
    "    \n",
    "    def __init__(self, init_position):\n",
    "        \n",
    "        self.state = [['.' for i in range(0,1000)] for i in range(0,1000)]\n",
    "        self.position_H = init_position.copy()\n",
    "        self.position_T = init_position.copy()\n",
    "        self.position_T9 = init_position.copy()\n",
    "        \n",
    "        self.all_positions_T = []\n",
    "        self.all_positions_H = []\n",
    "        \n",
    "        self.state[self.position_H[0]][self.position_H[1]] = 'H'\n",
    "        self.state[self.position_T[0]][self.position_T[1]] = 'T'\n",
    "        \n",
    "        self.state[self.position_T9[0]][self.position_T9[1]] = '9'\n",
    "    \n",
    "    \n",
    "    def get_state(self):\n",
    "        return self.state\n",
    "    \n",
    "    \n",
    "    def get_all_positions_T(self):\n",
    "        return self.all_positions_T\n",
    "    \n",
    "    \n",
    "    def set_positions(self):\n",
    "        self.all_positions_T.append(self.position_T)\n",
    "        self.all_positions_H.append(self.position_H)\n",
    "        self.state[self.position_T[0]][self.position_T[1]] = 'T'      \n",
    "        self.state[self.position_H[0]][self.position_H[1]] = 'H'\n",
    "        \n",
    "        all_pos = self.get_all_positions_T()\n",
    "        unique_pos_T = len(set(tuple(row) for row in all_pos))\n",
    "        if unique_pos_T>9:\n",
    "            print('last knot moves')\n",
    "    \n",
    "    \n",
    "    def move_H(self, direction):\n",
    "        \n",
    "        pos_H = self.position_H.copy()\n",
    "        pos_T = self.position_T.copy()\n",
    "                \n",
    "        if direction == 'R':\n",
    "            pos_H[1] += 1\n",
    "            \n",
    "        elif direction == 'L':\n",
    "            pos_H[1] -= 1\n",
    "\n",
    "        elif direction == 'U':\n",
    "            pos_H[0] -= 1\n",
    "\n",
    "        elif direction == 'D':\n",
    "            pos_H[0] += 1\n",
    "        \n",
    "        squared_hypo = (pos_H[1] - pos_T[1])**2 + (pos_H[0] - pos_T[0])**2\n",
    "            \n",
    "        if squared_hypo > 2:\n",
    "            self.position_T = self.position_H\n",
    "            self.position_H = pos_H\n",
    "            \n",
    "        else:\n",
    "            self.position_H = pos_H\n",
    "            \n",
    "        self.set_positions()\n",
    "         "
   ]
  },
  {
   "cell_type": "raw",
   "id": "d12d4924-b656-4576-a588-8573e44faa22",
   "metadata": {},
   "source": [
    "init_position = [5,0]\n",
    "B = Bridge(init_position)\n",
    "\n",
    "for i, line in enumerate(lines):\n",
    "            \n",
    "    direc = line[0]\n",
    "    steps = int(line[2::])\n",
    "    \n",
    "    for i in range(0,steps):\n",
    "        B.move_H(direc)"
   ]
  },
  {
   "cell_type": "markdown",
   "id": "0b3f2f4f-6af8-44cb-ae21-3cb71ad1b7a0",
   "metadata": {},
   "source": [
    "### Part 1"
   ]
  },
  {
   "cell_type": "raw",
   "id": "c25aa188-ba6d-448f-aa1f-d36e6b2e17f1",
   "metadata": {},
   "source": [
    "all_pos = B.get_all_positions_T()\n",
    "unique_T_positions = len(set(tuple(row) for row in all_pos))\n",
    "unique_T_positions"
   ]
  },
  {
   "cell_type": "markdown",
   "id": "65c78357-4861-4e74-a1c2-23034a86a753",
   "metadata": {},
   "source": [
    "### Part 2"
   ]
  },
  {
   "cell_type": "code",
   "execution_count": 50,
   "id": "fff3926e-55e5-43cf-bedf-f6f3e57a97f7",
   "metadata": {},
   "outputs": [],
   "source": [
    "init_position = [5,0]\n",
    "B = Bridge(init_position)"
   ]
  },
  {
   "cell_type": "code",
   "execution_count": 51,
   "id": "8a03314a-2e42-478a-893e-7ad4755fa884",
   "metadata": {},
   "outputs": [],
   "source": [
    "direc = 'R'\n",
    "steps = 5\n",
    "for i in range(0,steps):\n",
    "    B.move_H(direc)"
   ]
  },
  {
   "cell_type": "code",
   "execution_count": 52,
   "id": "5adeb000-7c2a-4125-b6ec-c94690a3031a",
   "metadata": {},
   "outputs": [
    {
     "name": "stdout",
     "output_type": "stream",
     "text": [
      "last knot moves\n",
      "last knot moves\n",
      "last knot moves\n"
     ]
    }
   ],
   "source": [
    "direc = 'U'\n",
    "steps = 8\n",
    "for i in range(0,steps):\n",
    "    B.move_H(direc)"
   ]
  },
  {
   "cell_type": "code",
   "execution_count": null,
   "id": "c2e167fa-9712-4cf1-ac75-4dddba6b6d73",
   "metadata": {},
   "outputs": [],
   "source": [
    "direc = 'L'\n",
    "steps = 8\n",
    "for i in range(0,steps):\n",
    "    B.move_H(direc)"
   ]
  }
 ],
 "metadata": {
  "kernelspec": {
   "display_name": "Python 3 (ipykernel)",
   "language": "python",
   "name": "python3"
  },
  "language_info": {
   "codemirror_mode": {
    "name": "ipython",
    "version": 3
   },
   "file_extension": ".py",
   "mimetype": "text/x-python",
   "name": "python",
   "nbconvert_exporter": "python",
   "pygments_lexer": "ipython3",
   "version": "3.7.4"
  }
 },
 "nbformat": 4,
 "nbformat_minor": 5
}
