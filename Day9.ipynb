{
 "cells": [
  {
   "cell_type": "code",
   "execution_count": 3,
   "id": "d86a60bd-1888-417b-8229-388c7ea2e639",
   "metadata": {},
   "outputs": [],
   "source": [
    "with open('D9.txt') as f:\n",
    "    raw_lines = f.readlines()\n",
    "\n",
    "lines = []\n",
    "for line in raw_lines:\n",
    "    lines.append(line.strip())"
   ]
  },
  {
   "cell_type": "code",
   "execution_count": 5,
   "id": "e81fffc5-ff7b-4248-b1d9-0c46f0c11be0",
   "metadata": {},
   "outputs": [],
   "source": [
    "lines = ['R 4', \n",
    "         'U 4',\n",
    "         'L 3',\n",
    "         'D 1',\n",
    "         'R 4', \n",
    "         'D 1', \n",
    "         'L 5', \n",
    "         'R 2']"
   ]
  },
  {
   "cell_type": "code",
   "execution_count": null,
   "id": "dc61d7b4-b10b-4b10-839b-bf4d404fc923",
   "metadata": {},
   "outputs": [],
   "source": []
  }
 ],
 "metadata": {
  "kernelspec": {
   "display_name": "Python 3 (ipykernel)",
   "language": "python",
   "name": "python3"
  },
  "language_info": {
   "codemirror_mode": {
    "name": "ipython",
    "version": 3
   },
   "file_extension": ".py",
   "mimetype": "text/x-python",
   "name": "python",
   "nbconvert_exporter": "python",
   "pygments_lexer": "ipython3",
   "version": "3.7.4"
  }
 },
 "nbformat": 4,
 "nbformat_minor": 5
}
