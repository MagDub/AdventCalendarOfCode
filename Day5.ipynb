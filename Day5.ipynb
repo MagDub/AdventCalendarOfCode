{
 "cells": [
  {
   "cell_type": "code",
   "execution_count": 562,
   "id": "ffbc01f5-b6ca-4cbd-be6f-b3c1107f1d82",
   "metadata": {},
   "outputs": [],
   "source": [
    "with open('D5.txt') as f:\n",
    "    lines = f.readlines()"
   ]
  },
  {
   "cell_type": "code",
   "execution_count": 563,
   "id": "18635a37-33f8-4b88-817f-33d079bec90d",
   "metadata": {},
   "outputs": [],
   "source": [
    "def get_stacks(lines):\n",
    "\n",
    "    stacks = {empty_list: [] for empty_list in range(1,10)}\n",
    "\n",
    "    for line in lines[0:8]: \n",
    "\n",
    "        strp_line = line.strip('\\n').replace('    ', ' ').split(' ')\n",
    "\n",
    "        for i, crate in enumerate(strp_line):\n",
    "            if len(crate)>0:\n",
    "                stacks[i+1].insert(0, crate)\n",
    "\n",
    "    return stacks"
   ]
  },
  {
   "cell_type": "code",
   "execution_count": 564,
   "id": "98a21c17-2813-4078-b0b5-839b4b2bdebe",
   "metadata": {},
   "outputs": [],
   "source": [
    "def print_message(stacks):\n",
    "    message = []\n",
    "    for stack in stacks.values():\n",
    "        message += stack[-1][1]\n",
    "        \n",
    "    print(''.join(message))"
   ]
  },
  {
   "cell_type": "markdown",
   "id": "59e20be3-291e-4502-81c5-75c7cd92050e",
   "metadata": {},
   "source": [
    "### Part 1"
   ]
  },
  {
   "cell_type": "code",
   "execution_count": 565,
   "id": "35082928-10fc-4779-8d7b-1beb1683c797",
   "metadata": {},
   "outputs": [],
   "source": [
    "# Extract stack config\n",
    "\n",
    "stacks = get_stacks(lines)"
   ]
  },
  {
   "cell_type": "code",
   "execution_count": 566,
   "id": "aa572b82-3951-421b-820f-d59eb0827803",
   "metadata": {},
   "outputs": [],
   "source": [
    "# Extract rules\n",
    "\n",
    "rules = []\n",
    "for line in lines[10::]:\n",
    "    rules.append(line.strip().replace('move ', '').replace('from ', '').replace('to ', '').split(' '))"
   ]
  },
  {
   "cell_type": "code",
   "execution_count": 568,
   "id": "d8cb1642-82ec-4b5a-9fe9-5d05ac9cc494",
   "metadata": {},
   "outputs": [
    {
     "name": "stdout",
     "output_type": "stream",
     "text": [
      "TLFGBZHCN\n"
     ]
    }
   ],
   "source": [
    "# Move stacks around\n",
    "\n",
    "for rule in rules:\n",
    "        \n",
    "    for crate in range(int(rule[0])):\n",
    "    \n",
    "        old_stack = int(rule[1])\n",
    "        new_stack = int(rule[2])\n",
    "        \n",
    "        mv_crate = stacks[old_stack].pop()\n",
    "        stacks[new_stack].append(mv_crate)\n",
    "    \n",
    "print_message(stacks)"
   ]
  },
  {
   "cell_type": "markdown",
   "id": "44853e18-41a2-4a07-9911-1a0c8163149d",
   "metadata": {},
   "source": [
    "### Part 2 "
   ]
  },
  {
   "cell_type": "code",
   "execution_count": 578,
   "id": "290e4b46-eb47-4a44-a2fc-8b9d24c19fc3",
   "metadata": {},
   "outputs": [],
   "source": [
    "stacks = get_stacks(lines)"
   ]
  },
  {
   "cell_type": "code",
   "execution_count": 579,
   "id": "8497237f-d006-4b5f-b8de-8efb78d556e1",
   "metadata": {},
   "outputs": [
    {
     "name": "stdout",
     "output_type": "stream",
     "text": [
      "QRQFHFWCL\n"
     ]
    }
   ],
   "source": [
    "# Move stacks around\n",
    "\n",
    "for rule in rules:\n",
    "    \n",
    "    old_stack = int(rule[1])\n",
    "    new_stack = int(rule[2])\n",
    "\n",
    "    mv_crates = stacks[old_stack][-int(rule[0])::]\n",
    "\n",
    "    for mv_crate in mv_crates:\n",
    "\n",
    "        stacks[old_stack].pop()\n",
    "        stacks[new_stack].append(mv_crate)\n",
    "    \n",
    "print_message(stacks)"
   ]
  },
  {
   "cell_type": "code",
   "execution_count": null,
   "id": "9b6d8a5e-7531-487a-881c-2ab09560a7d7",
   "metadata": {},
   "outputs": [],
   "source": []
  }
 ],
 "metadata": {
  "kernelspec": {
   "display_name": "Python 3 (ipykernel)",
   "language": "python",
   "name": "python3"
  },
  "language_info": {
   "codemirror_mode": {
    "name": "ipython",
    "version": 3
   },
   "file_extension": ".py",
   "mimetype": "text/x-python",
   "name": "python",
   "nbconvert_exporter": "python",
   "pygments_lexer": "ipython3",
   "version": "3.7.4"
  }
 },
 "nbformat": 4,
 "nbformat_minor": 5
}
