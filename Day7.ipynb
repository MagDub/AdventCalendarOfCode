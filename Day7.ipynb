{
 "cells": [
  {
   "cell_type": "markdown",
   "id": "88335656-1c25-48bd-abdc-6a44fb46ed95",
   "metadata": {},
   "source": [
    "### Day 7"
   ]
  },
  {
   "cell_type": "code",
   "execution_count": 1,
   "id": "09609a78-7e44-44f8-9329-a22ad5f361f2",
   "metadata": {},
   "outputs": [],
   "source": [
    "import copy\n",
    "import pandas as pd"
   ]
  },
  {
   "cell_type": "code",
   "execution_count": 2,
   "id": "d093fdaf-aeb9-42b2-837e-b6a7194a4547",
   "metadata": {},
   "outputs": [],
   "source": [
    "with open('D7.txt') as f:\n",
    "    lines = f.readlines()"
   ]
  },
  {
   "cell_type": "raw",
   "id": "41d8b0dc-1e74-47e1-ba36-8939f6e49329",
   "metadata": {},
   "source": [
    "lines = ['$ cd /',\n",
    "'$ ls',\n",
    "'dir a',\n",
    "'14848514 b.txt',\n",
    "'8504156 c.dat',\n",
    "'dir d',\n",
    "'$ cd a',\n",
    "'$ ls',\n",
    "'dir e',\n",
    "'29116 f',\n",
    "'2557 g',\n",
    "'62596 h.lst',\n",
    "'$ cd e',\n",
    "'$ ls',\n",
    "'584 i',\n",
    "'$ cd ..',\n",
    "'$ cd ..',\n",
    "'$ cd d',\n",
    "'$ ls',\n",
    "'4060174 j',\n",
    "'8033020 d.log',\n",
    "'5626152 a',\n",
    "'7214296 k']"
   ]
  },
  {
   "cell_type": "code",
   "execution_count": 3,
   "id": "da29fafa-8a30-4020-9ec0-3f4c3ec7fa41",
   "metadata": {},
   "outputs": [],
   "source": [
    "def get_current_folder(current_path, folders):\n",
    "    \n",
    "    tmp_dic = folders\n",
    "\n",
    "    for folder_name in current_path:\n",
    "\n",
    "        if folder_name in tmp_dic.keys():\n",
    "            tmp_dic = tmp_dic[folder_name]\n",
    "            \n",
    "    return tmp_dic\n",
    "    "
   ]
  },
  {
   "cell_type": "code",
   "execution_count": 4,
   "id": "c4ae560c-0e0c-4974-bd7b-244dda3e48c3",
   "metadata": {},
   "outputs": [],
   "source": [
    "folders = {}\n",
    "folders['/'] = {}\n",
    "current_path = []\n",
    "\n",
    "for line in lines:\n",
    "    \n",
    "    command = line.strip().split(' ')\n",
    "    \n",
    "    if command[1] == 'cd':\n",
    "        \n",
    "        if command[2] == '..':\n",
    "            current_path.pop()\n",
    "        else:\n",
    "            current_path.append(command[2])\n",
    "                                \n",
    "    elif command[0] == 'dir':\n",
    "        \n",
    "        current_folder = get_current_folder(current_path, folders)\n",
    "        current_folder[command[1]] = {}\n",
    "            \n",
    "    elif command[0].isnumeric() == True:\n",
    "        \n",
    "        current_folder = get_current_folder(current_path, folders)\n",
    "        current_folder[command[1]+'.file'] = int(command[0])"
   ]
  },
  {
   "cell_type": "code",
   "execution_count": 5,
   "id": "811581b2-63f2-436a-9916-efe055fbe5e9",
   "metadata": {},
   "outputs": [],
   "source": [
    "folders_cp = copy.deepcopy(folders)\n",
    "df = pd.json_normalize(folders_cp, sep='_')\n",
    "folders_cp_flat = df.to_dict(orient='records')[0]"
   ]
  },
  {
   "cell_type": "code",
   "execution_count": 7,
   "id": "cb969a9e-66f6-4c74-baa9-bb718aa4c455",
   "metadata": {},
   "outputs": [],
   "source": [
    "dic_folder_size = {}\n",
    "keys = list(folders_cp_flat.keys())\n",
    "\n",
    "all_folders = '_'.join(keys)\n",
    "all_folders = list(set(all_folders.split('_')))\n",
    "\n",
    "for folder_name in all_folders:\n",
    "        \n",
    "    total = 0\n",
    "    for k,v in folders_cp_flat.items():\n",
    "        if ('_'+folder_name+'_' in k) or (folder_name+'_' in k):\n",
    "                total = total + v\n",
    "\n",
    "    if '.file' not in folder_name:\n",
    "        dic_folder_size[folder_name] = total"
   ]
  },
  {
   "cell_type": "code",
   "execution_count": 10,
   "id": "61879ada-5301-479c-828e-d6be1965a8f0",
   "metadata": {},
   "outputs": [
    {
     "data": {
      "text/plain": [
       "1072909"
      ]
     },
     "execution_count": 10,
     "metadata": {},
     "output_type": "execute_result"
    }
   ],
   "source": [
    "total = 0\n",
    "for v in dic_folder_size.values():\n",
    "    if v <= 100000:\n",
    "        total = total + v\n",
    "    \n",
    "total"
   ]
  },
  {
   "cell_type": "code",
   "execution_count": null,
   "id": "1ce0bfd3-ea18-4dae-8d88-88bd10ea18e5",
   "metadata": {},
   "outputs": [],
   "source": []
  },
  {
   "cell_type": "code",
   "execution_count": null,
   "id": "d76fb7d1-f4dd-4688-827d-957fd0dd0228",
   "metadata": {},
   "outputs": [],
   "source": []
  }
 ],
 "metadata": {
  "kernelspec": {
   "display_name": "Python 3 (ipykernel)",
   "language": "python",
   "name": "python3"
  },
  "language_info": {
   "codemirror_mode": {
    "name": "ipython",
    "version": 3
   },
   "file_extension": ".py",
   "mimetype": "text/x-python",
   "name": "python",
   "nbconvert_exporter": "python",
   "pygments_lexer": "ipython3",
   "version": "3.7.4"
  }
 },
 "nbformat": 4,
 "nbformat_minor": 5
}
