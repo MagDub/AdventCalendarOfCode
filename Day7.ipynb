{
 "cells": [
  {
   "cell_type": "markdown",
   "id": "88335656-1c25-48bd-abdc-6a44fb46ed95",
   "metadata": {},
   "source": [
    "### Day 7"
   ]
  },
  {
   "cell_type": "code",
   "execution_count": 137,
   "id": "09609a78-7e44-44f8-9329-a22ad5f361f2",
   "metadata": {},
   "outputs": [],
   "source": [
    "import copy\n",
    "import pandas as pd"
   ]
  },
  {
   "cell_type": "code",
   "execution_count": 138,
   "id": "d093fdaf-aeb9-42b2-837e-b6a7194a4547",
   "metadata": {},
   "outputs": [],
   "source": [
    "with open('D7.txt') as f:\n",
    "    lines = f.readlines()"
   ]
  },
  {
   "cell_type": "code",
   "execution_count": 139,
   "id": "da29fafa-8a30-4020-9ec0-3f4c3ec7fa41",
   "metadata": {},
   "outputs": [],
   "source": [
    "def get_current_folder(current_path, folders):\n",
    "    \n",
    "    tmp_dic = folders\n",
    "\n",
    "    for folder_name in current_path:\n",
    "\n",
    "        if folder_name in tmp_dic.keys():\n",
    "            tmp_dic = tmp_dic[folder_name]\n",
    "            \n",
    "    return tmp_dic\n",
    "    "
   ]
  },
  {
   "cell_type": "code",
   "execution_count": 140,
   "id": "c4ae560c-0e0c-4974-bd7b-244dda3e48c3",
   "metadata": {},
   "outputs": [],
   "source": [
    "folders = {}\n",
    "folders['/'] = {}\n",
    "current_path = []\n",
    "\n",
    "for line in lines:\n",
    "    \n",
    "    command = line.strip().split(' ')\n",
    "    \n",
    "    if command[1] == 'cd':\n",
    "        \n",
    "        if command[2] == '..':\n",
    "            current_path.pop()\n",
    "        else:\n",
    "            current_path.append(command[2])\n",
    "                                \n",
    "    elif command[0] == 'dir':\n",
    "        \n",
    "        current_folder = get_current_folder(current_path, folders)\n",
    "        current_folder[command[1]] = {}\n",
    "            \n",
    "    elif command[0].isnumeric() == True:\n",
    "        \n",
    "        current_folder = get_current_folder(current_path, folders)\n",
    "        current_folder[command[1]+'.file'] = int(command[0])"
   ]
  },
  {
   "cell_type": "code",
   "execution_count": 141,
   "id": "811581b2-63f2-436a-9916-efe055fbe5e9",
   "metadata": {},
   "outputs": [],
   "source": [
    "folders_cp = copy.deepcopy(folders)\n",
    "df = pd.json_normalize(folders_cp, sep='_')\n",
    "folders_cp_flat = df.to_dict(orient='records')[0]"
   ]
  },
  {
   "cell_type": "code",
   "execution_count": 142,
   "id": "01b6f5b8-fbb5-473f-9c75-ba79ffffd146",
   "metadata": {},
   "outputs": [],
   "source": [
    "subpaths = []\n",
    "for file_name in folders_cp_flat:\n",
    "    roots = file_name.split('_')\n",
    "    for i in range(1,len(roots)+1):\n",
    "        subpath = '_'.join(roots[0:i])   \n",
    "        subpaths.append(subpath)\n",
    "subpaths = list(set(subpaths))"
   ]
  },
  {
   "cell_type": "code",
   "execution_count": 143,
   "id": "bb3555ac-620a-4cfe-b953-d2c095c1cb86",
   "metadata": {},
   "outputs": [],
   "source": [
    "folder_size = {}\n",
    "for subpath in subpaths:\n",
    "    contain_subpath = [key for key in folders_cp_flat.keys() if subpath in key]\n",
    "    folder_size[subpath] = sum([folders_cp_flat[k] for k in contain_subpath])\n"
   ]
  },
  {
   "cell_type": "markdown",
   "id": "1d9a811e-2cc7-4150-bbb8-fe44db4e2ec9",
   "metadata": {},
   "source": [
    "### Part 1"
   ]
  },
  {
   "cell_type": "code",
   "execution_count": 144,
   "id": "61879ada-5301-479c-828e-d6be1965a8f0",
   "metadata": {},
   "outputs": [
    {
     "data": {
      "text/plain": [
       "1611443"
      ]
     },
     "execution_count": 144,
     "metadata": {},
     "output_type": "execute_result"
    }
   ],
   "source": [
    "total = 0\n",
    "for k, v in folder_size.items():\n",
    "    if 'file' not in k and v <= 100000:\n",
    "        total = total + v\n",
    "    \n",
    "total"
   ]
  },
  {
   "cell_type": "markdown",
   "id": "384ea7f2-bc32-42e7-9292-f4f8c66725d3",
   "metadata": {},
   "source": [
    "### Part 2"
   ]
  },
  {
   "cell_type": "code",
   "execution_count": 145,
   "id": "2228c50f-887c-49f9-af4d-dee4d0ed097e",
   "metadata": {},
   "outputs": [
    {
     "data": {
      "text/plain": [
       "2086088"
      ]
     },
     "execution_count": 145,
     "metadata": {},
     "output_type": "execute_result"
    }
   ],
   "source": [
    "required_space = 30000000 - (70000000 - folder_size['/'])\n",
    "\n",
    "big_enough_folders = []\n",
    "for k, v in folder_size.items():\n",
    "    if 'file' not in k and v >= required_space:\n",
    "        big_enough_folders.append(v)\n",
    "    \n",
    "min(big_enough_folders)"
   ]
  },
  {
   "cell_type": "code",
   "execution_count": null,
   "id": "42a2a2ff-9f82-4ef8-99d2-c2ff76508b39",
   "metadata": {},
   "outputs": [],
   "source": []
  }
 ],
 "metadata": {
  "kernelspec": {
   "display_name": "Python 3 (ipykernel)",
   "language": "python",
   "name": "python3"
  },
  "language_info": {
   "codemirror_mode": {
    "name": "ipython",
    "version": 3
   },
   "file_extension": ".py",
   "mimetype": "text/x-python",
   "name": "python",
   "nbconvert_exporter": "python",
   "pygments_lexer": "ipython3",
   "version": "3.7.4"
  }
 },
 "nbformat": 4,
 "nbformat_minor": 5
}
