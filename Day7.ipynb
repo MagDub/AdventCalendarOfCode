{
 "cells": [
  {
   "cell_type": "markdown",
   "id": "88335656-1c25-48bd-abdc-6a44fb46ed95",
   "metadata": {},
   "source": [
    "### Day 7"
   ]
  },
  {
   "cell_type": "code",
   "execution_count": 66,
   "id": "09609a78-7e44-44f8-9329-a22ad5f361f2",
   "metadata": {},
   "outputs": [],
   "source": [
    "import copy\n",
    "import pandas as pd"
   ]
  },
  {
   "cell_type": "code",
   "execution_count": 67,
   "id": "d093fdaf-aeb9-42b2-837e-b6a7194a4547",
   "metadata": {},
   "outputs": [],
   "source": [
    "with open('D7.txt') as f:\n",
    "    lines = f.readlines()"
   ]
  },
  {
   "cell_type": "code",
   "execution_count": 68,
   "id": "da29fafa-8a30-4020-9ec0-3f4c3ec7fa41",
   "metadata": {},
   "outputs": [],
   "source": [
    "def get_current_folder(current_path, folders):\n",
    "    \n",
    "    tmp_dic = folders\n",
    "\n",
    "    for folder_name in current_path:\n",
    "\n",
    "        if folder_name in tmp_dic.keys():\n",
    "            tmp_dic = tmp_dic[folder_name]\n",
    "            \n",
    "    return tmp_dic\n",
    "    "
   ]
  },
  {
   "cell_type": "code",
   "execution_count": 69,
   "id": "c4ae560c-0e0c-4974-bd7b-244dda3e48c3",
   "metadata": {},
   "outputs": [],
   "source": [
    "folders = {}\n",
    "folders['/'] = {}\n",
    "current_path = []\n",
    "\n",
    "for line in lines:\n",
    "    \n",
    "    command = line.strip().split(' ')\n",
    "    \n",
    "    if command[1] == 'cd':\n",
    "        \n",
    "        if command[2] == '..':\n",
    "            current_path.pop()\n",
    "        else:\n",
    "            current_path.append(command[2])\n",
    "                                \n",
    "    elif command[0] == 'dir':\n",
    "        \n",
    "        current_folder = get_current_folder(current_path, folders)\n",
    "        current_folder[command[1]] = {}\n",
    "            \n",
    "    elif command[0].isnumeric() == True:\n",
    "        \n",
    "        current_folder = get_current_folder(current_path, folders)\n",
    "        current_folder[command[1]] = int(command[0])"
   ]
  },
  {
   "cell_type": "code",
   "execution_count": 70,
   "id": "dc50a549-f0be-4240-8d68-986e747e38f0",
   "metadata": {},
   "outputs": [],
   "source": [
    "def concat_files(fold):\n",
    "        \n",
    "    keys_files = [k for k, v in fold.items() if type(v)!=dict]\n",
    "    fold['files'] = sum([fold[k] for k in keys_files])\n",
    "\n",
    "    for k in keys_files:\n",
    "        fold.pop(k)\n",
    "        \n",
    "    return fold"
   ]
  },
  {
   "cell_type": "code",
   "execution_count": 71,
   "id": "dc39e9de-74d3-4f66-9cc7-2d37e57ec611",
   "metadata": {},
   "outputs": [],
   "source": [
    "folders_cp = copy.deepcopy(folders)"
   ]
  },
  {
   "cell_type": "code",
   "execution_count": 77,
   "id": "ba948394-db5f-4fb4-ad10-182325b9ae3d",
   "metadata": {},
   "outputs": [],
   "source": [
    "for k,v in folders_cp.items():\n",
    "    if type(folders_cp[k]) == dict:\n",
    "        concat_files(folders_cp[k])\n",
    "        \n",
    "        for k1,v1 in folders_cp[k].items():\n",
    "            if type(folders_cp[k][k1]) == dict:\n",
    "                concat_files(folders_cp[k][k1])\n",
    "                \n",
    "                for k2,v2 in folders_cp[k][k1].items():\n",
    "                    if type(folders_cp[k][k1][k2]) == dict:\n",
    "                        concat_files(folders_cp[k][k1][k2])\n",
    "                        \n",
    "                        for k3,v3 in folders_cp[k][k1][k2].items():\n",
    "                            if type(folders_cp[k][k1][k2][k3]) == dict:\n",
    "                                concat_files(folders_cp[k][k1][k2][k3])\n",
    "                                \n",
    "                                for k4,v4 in folders_cp[k][k1][k2][k3].items():\n",
    "                                    if type(folders_cp[k][k1][k2][k3][k4]) == dict:\n",
    "                                        concat_files(folders_cp[k][k1][k2][k3][k4])"
   ]
  },
  {
   "cell_type": "code",
   "execution_count": 73,
   "id": "a1ebd9c4-5f44-43be-ab87-b7767faf8b01",
   "metadata": {},
   "outputs": [],
   "source": [
    "df = pd.json_normalize(folders_cp, sep='_')\n"
   ]
  },
  {
   "cell_type": "code",
   "execution_count": 74,
   "id": "5654ec1d-58c9-4597-bfb8-2e3a12ef87cf",
   "metadata": {},
   "outputs": [],
   "source": [
    "df.columns = df.columns.str.replace('_files', '')\n",
    "folders_cp_flat = df.to_dict(orient='records')[0]\n",
    "\n",
    "folders_cp_flat_sum = folders_cp_flat.copy()"
   ]
  },
  {
   "cell_type": "code",
   "execution_count": 75,
   "id": "011a593f-dd18-41eb-844c-072f5fef6105",
   "metadata": {},
   "outputs": [],
   "source": [
    "for k,v in folders_cp_flat_sum.items():\n",
    "            \n",
    "    keys = list(folders_cp_flat.keys())\n",
    "    keys.remove(k)\n",
    "    \n",
    "    paths = [s for s in keys if k in s]\n",
    "    \n",
    "    if len(paths)>0:\n",
    "        \n",
    "        folders_cp_flat_sum[k] = folders_cp_flat[k] + sum([folders_cp_flat[path] for path in paths])\n",
    "               "
   ]
  },
  {
   "cell_type": "code",
   "execution_count": 76,
   "id": "61879ada-5301-479c-828e-d6be1965a8f0",
   "metadata": {},
   "outputs": [
    {
     "data": {
      "text/plain": [
       "1609610"
      ]
     },
     "execution_count": 76,
     "metadata": {},
     "output_type": "execute_result"
    }
   ],
   "source": [
    "total = 0\n",
    "for v in folders_cp_flat.values():\n",
    "    if v < 100000:\n",
    "        total = total + v\n",
    "    \n",
    "total"
   ]
  },
  {
   "cell_type": "code",
   "execution_count": null,
   "id": "1ce0bfd3-ea18-4dae-8d88-88bd10ea18e5",
   "metadata": {},
   "outputs": [],
   "source": []
  },
  {
   "cell_type": "code",
   "execution_count": null,
   "id": "d76fb7d1-f4dd-4688-827d-957fd0dd0228",
   "metadata": {},
   "outputs": [],
   "source": []
  }
 ],
 "metadata": {
  "kernelspec": {
   "display_name": "Python 3 (ipykernel)",
   "language": "python",
   "name": "python3"
  },
  "language_info": {
   "codemirror_mode": {
    "name": "ipython",
    "version": 3
   },
   "file_extension": ".py",
   "mimetype": "text/x-python",
   "name": "python",
   "nbconvert_exporter": "python",
   "pygments_lexer": "ipython3",
   "version": "3.7.4"
  }
 },
 "nbformat": 4,
 "nbformat_minor": 5
}
