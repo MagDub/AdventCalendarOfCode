{
 "cells": [
  {
   "cell_type": "markdown",
   "id": "e93c8e20-5a5b-41f7-b215-c1b0259d7cea",
   "metadata": {},
   "source": [
    "### Level 1: Skipping Work"
   ]
  },
  {
   "cell_type": "markdown",
   "id": "98ac3fe8-3fad-40a9-b0b0-a61d54456ded",
   "metadata": {},
   "source": [
    "Commander Lambda is all about efficiency, including using her the bunny workers for manual labor. But no one's been properly monitoring the labor shifts for a while and they've gotten quite mixed up. You've been given the task of fixing them, but after you wrote up new shifts you realized that some bunny workers had been transferred to a different area and aren't available for their assigned shifts. Manually sorting through each shift list to compare against work area lists will take forever -- remember, Commander Lambda loves efficiency!\n",
    "\n",
    "Given two almost identical lists of worker IDs x and y where one of the lists contains an additional ID, write a function solution(x, y) that compares the lists and returns the additional ID.\n",
    "\n",
    "For example, given the lists x = [13, 5, 6, 2, 5] and y = [5, 2, 5, 13], the function solution(x, y) would return 6 because the list x contains the integer 6 and the list y doesn't. Given the lists x = [14, 27, 1, 4, 2, 50, 3, 1] and y = [2, 4, -4, 3, 1, 1, 14, 27, 50], the function solution(x, y) would return -4 because the list y contains the integer -4 and the list x doesn't.\n",
    "\n",
    "In each test case, the lists x and y will always contain n non-unique integers where n is at least 1 but never more than 99, and one of the lists will contain an additional unique integer which should be returned by the function. The same n non-unique integers will be present on both lists, but they might appear in a different order like in the examples above. Commander Lambda likes to keep the numbers short, so every worker ID will be between -1000 and 1000."
   ]
  },
  {
   "cell_type": "code",
   "execution_count": 74,
   "id": "c78a55cb-25ae-421a-b353-d94e5884f11c",
   "metadata": {},
   "outputs": [],
   "source": [
    "x = {14, 27, 1, 4, 2, 50, 3, 1}\n",
    "y = {2, 4, -4, 3, 1, 1, 14, 27, 50}"
   ]
  },
  {
   "cell_type": "markdown",
   "id": "e4cb45dd-4dec-4b78-b7b2-7721708c0463",
   "metadata": {},
   "source": [
    "#### Solution"
   ]
  },
  {
   "cell_type": "code",
   "execution_count": 75,
   "id": "b79db22e-1ceb-4a35-be0a-714224f238be",
   "metadata": {},
   "outputs": [
    {
     "data": {
      "text/plain": [
       "-4"
      ]
     },
     "execution_count": 75,
     "metadata": {},
     "output_type": "execute_result"
    }
   ],
   "source": [
    "(list(set(x)-set(y)) or list(set(y)-set(x)))[0]"
   ]
  },
  {
   "cell_type": "markdown",
   "id": "e33c32ee-7a97-4ef9-a5ff-9c40082fd7a9",
   "metadata": {},
   "source": [
    "### Level 2: Part 1 : Numbers Station Coded Messages"
   ]
  },
  {
   "cell_type": "markdown",
   "id": "fd71bb1f-aa73-4b40-8b24-689dca0fc9b7",
   "metadata": {},
   "source": [
    "When you went undercover in Commander Lambda's organization, you set up a coded messaging system with Bunny Headquarters to allow them to send you important mission updates. Now that you're here and promoted to Henchman, you need to make sure you can receive those messages -- but since you need to sneak them past Commander Lambda's spies, it won't be easy!\n",
    "\n",
    "Bunny HQ has secretly taken control of two of the galaxy's more obscure numbers stations, and will use them to broadcast lists of numbers. They've given you a numerical key, and their messages will be encrypted within the first sequence of numbers that adds up to that key within any given list of numbers. \n",
    "\n",
    "Given a non-empty list of positive integers l and a target positive integer t, write a function solution(l, t) which verifies if there is at least one consecutive sequence of positive integers within the list l (i.e. a contiguous sub-list) that can be summed up to the given target positive integer t (the key) and returns the lexicographically smallest list containing the smallest start and end indexes where this sequence can be found, or returns the array [-1, -1] in the case that there is no such sequence (to throw off Lambda's spies, not all number broadcasts will contain a coded message).\n",
    "\n",
    "For example, given the broadcast list l as [4, 3, 5, 7, 8] and the key t as 12, the function solution(l, t) would return the list [0, 2] because the list l contains the sub-list [4, 3, 5] starting at index 0 and ending at index 2, for which 4 + 3 + 5 = 12, even though there is a shorter sequence that happens later in the list (5 + 7). On the other hand, given the list l as [1, 2, 3, 4] and the key t as 15, the function solution(l, t) would return [-1, -1] because there is no sub-list of list l that can be summed up to the given target value t = 15.\n",
    "\n",
    "To help you identify the coded broadcasts, Bunny HQ has agreed to the following standards: \n",
    "\n",
    "- Each list l will contain at least 1 element but never more than 100.\n",
    "- Each element of l will be between 1 and 100.\n",
    "- t will be a positive integer, not exceeding 250.\n",
    "- The first element of the list l has index 0. \n",
    "- For the list returned by solution(l, t), the start index must be equal or smaller than the end index. \n",
    "\n",
    "Remember, to throw off Lambda's spies, Bunny HQ might include more than one contiguous sublist of a number broadcast that can be summed up to the key. You know that the message will always be hidden in the first sublist that sums up to the key, so solution(l, t) should only return that sublist."
   ]
  },
  {
   "cell_type": "code",
   "execution_count": 311,
   "id": "be4c18b6-0d4f-4a4b-932d-b257a43ad56c",
   "metadata": {},
   "outputs": [],
   "source": [
    "l = {4, 3, 10, 2, 8}\n",
    "t = 12"
   ]
  },
  {
   "cell_type": "code",
   "execution_count": 312,
   "id": "0d4648e4-35da-4c1d-8e31-fb6918db4f5a",
   "metadata": {},
   "outputs": [],
   "source": [
    "def solution(l, t):\n",
    "    \n",
    "    l = list(l)\n",
    "\n",
    "    solutions = []\n",
    "\n",
    "    for i_start in range(len(l)):\n",
    "\n",
    "        sublist = l[i_start::]\n",
    "        \n",
    "        sums = [sum(sublist[:i]) for i in range(1,len(sublist)+1)]\n",
    "        \n",
    "        if t in sums:\n",
    "            i_end = i_start + sums.index(t)\n",
    "            solutions.append([i_start, i_end])\n",
    "        \n",
    "    if len(solutions)>0:\n",
    "        return solutions[0]\n",
    "    else:\n",
    "        return [-1,-1]"
   ]
  },
  {
   "cell_type": "code",
   "execution_count": 313,
   "id": "065ed59d-014a-4fe0-8259-9d5a6bb6c06b",
   "metadata": {},
   "outputs": [
    {
     "data": {
      "text/plain": [
       "[2, 3]"
      ]
     },
     "execution_count": 313,
     "metadata": {},
     "output_type": "execute_result"
    }
   ],
   "source": [
    "solution(l, t)"
   ]
  },
  {
   "cell_type": "markdown",
   "id": "7a93b073-8b94-4f65-98b3-d17485581394",
   "metadata": {},
   "source": [
    "### Level 2: Part 2 : Don't Get Volunteered!"
   ]
  },
  {
   "cell_type": "markdown",
   "id": "a721982f-451f-4125-8843-31838801b781",
   "metadata": {},
   "source": [
    "As a henchman on Commander Lambda's space station, you're expected to be resourceful, smart, and a quick thinker. It's not easy building a doomsday device and ordering the bunnies around at the same time, after all! In order to make sure that everyone is sufficiently quick-witted, Commander Lambda has installed new flooring outside the henchman dormitories. It looks like a chessboard, and every morning and evening you have to solve a new movement puzzle in order to cross the floor. That would be fine if you got to be the rook or the queen, but instead, you have to be the knight. Worse, if you take too much time solving the puzzle, you get \"volunteered\" as a test subject for the LAMBCHOP doomsday device!\n",
    "\n",
    "To help yourself get to and from your bunk every day, write a function called solution(src, dest) which takes in two parameters: the source square, on which you start, and the destination square, which is where you need to land to solve the puzzle.  The function should return an integer representing the smallest number of moves it will take for you to travel from the source square to the destination square using a chess knight's moves (that is, two squares in any direction immediately followed by one square perpendicular to that direction, or vice versa, in an \"L\" shape).  Both the source and destination squares will be an integer between 0 and 63, inclusive, and are numbered like the example chessboard below:"
   ]
  },
  {
   "cell_type": "raw",
   "id": "82ec786e-aef2-46cd-93a8-b160aa3f9bd6",
   "metadata": {},
   "source": [
    "-------------------------\n",
    "| 0| 1| 2| 3| 4| 5| 6| 7|\n",
    "-------------------------\n",
    "| 8| 9|10|11|12|13|14|15|\n",
    "-------------------------\n",
    "|16|17|18|19|20|21|22|23|\n",
    "-------------------------\n",
    "|24|25|26|27|28|29|30|31|\n",
    "-------------------------\n",
    "|32|33|34|35|36|37|38|39|\n",
    "-------------------------\n",
    "|40|41|42|43|44|45|46|47|\n",
    "-------------------------\n",
    "|48|49|50|51|52|53|54|55|\n",
    "-------------------------\n",
    "|56|57|58|59|60|61|62|63|\n",
    "-------------------------"
   ]
  },
  {
   "cell_type": "markdown",
   "id": "37839047-95dc-4460-9cae-760f14235a7b",
   "metadata": {},
   "source": [
    "chess knight's moves: 2 squares in any direction + 1 square perpendicular to that direction, or vice versa, in an \"L\" shape"
   ]
  },
  {
   "cell_type": "code",
   "execution_count": 41,
   "id": "4821eb68-143e-4593-af08-437387a057da",
   "metadata": {},
   "outputs": [],
   "source": [
    "def knights_move_from(init_pos, grid):\n",
    "    \n",
    "    positions = []\n",
    "    \n",
    "    # get position in grid\n",
    "    grid_pos = [[i, x.index(init_pos)] for i, x in enumerate(grid) if init_pos in x][0]\n",
    "\n",
    "    # vertical L\n",
    "    ind_rows = [grid_pos[0]-2, grid_pos[0]+2]\n",
    "    ind_cols = [grid_pos[1]-1, grid_pos[1]+1]\n",
    "\n",
    "    positions.append([grid[ind_row][ind_col] for ind_row in ind_rows for ind_col in ind_cols if ind_row >= 0 and ind_row < 8 and ind_col >= 0 and ind_col < 8])\n",
    "\n",
    "    # horizontal L\n",
    "    ind_rows = [grid_pos[0]-1, grid_pos[0]+1]\n",
    "    ind_cols = [grid_pos[1]-2, grid_pos[1]+2]\n",
    "\n",
    "    positions.append([grid[ind_row][ind_col] for ind_row in ind_rows for ind_col in ind_cols if ind_row >= 0 and ind_row < 8 and ind_col >= 0 and ind_col < 8])\n",
    "\n",
    "    # flatten\n",
    "    positions = sum(positions, [])\n",
    "    \n",
    "    return positions\n",
    "    "
   ]
  },
  {
   "cell_type": "code",
   "execution_count": 42,
   "id": "acf5c427-2a80-4120-97c7-fc55c13ee70d",
   "metadata": {},
   "outputs": [],
   "source": [
    "def solution(src, dest):\n",
    "    \n",
    "    n_moves = 0\n",
    "    positions = [src]\n",
    "\n",
    "    grid = [[row for row in range(col*8, col*8+8)] for col in range(8)]\n",
    "\n",
    "    while dest not in positions:\n",
    "        positions = [knights_move_from(pos, grid) for pos in positions]\n",
    "        positions = sum(positions, [])\n",
    "        n_moves += 1\n",
    "\n",
    "    return(n_moves)\n",
    "    "
   ]
  },
  {
   "cell_type": "code",
   "execution_count": 59,
   "id": "4c42edd0-757a-45d1-94a0-0b12e837a50b",
   "metadata": {},
   "outputs": [],
   "source": [
    "src = 57\n",
    "dest = 62"
   ]
  },
  {
   "cell_type": "code",
   "execution_count": 60,
   "id": "2e0e6d9f-41ec-464f-be4f-3e37bfdc4fb8",
   "metadata": {},
   "outputs": [
    {
     "data": {
      "text/plain": [
       "3"
      ]
     },
     "execution_count": 60,
     "metadata": {},
     "output_type": "execute_result"
    }
   ],
   "source": [
    "solution(src, dest)"
   ]
  },
  {
   "cell_type": "code",
   "execution_count": null,
   "id": "836adf49-617d-4ea4-9486-0a65e5f7c619",
   "metadata": {},
   "outputs": [],
   "source": []
  }
 ],
 "metadata": {
  "kernelspec": {
   "display_name": "Python 3 (ipykernel)",
   "language": "python",
   "name": "python3"
  },
  "language_info": {
   "codemirror_mode": {
    "name": "ipython",
    "version": 3
   },
   "file_extension": ".py",
   "mimetype": "text/x-python",
   "name": "python",
   "nbconvert_exporter": "python",
   "pygments_lexer": "ipython3",
   "version": "3.7.4"
  }
 },
 "nbformat": 4,
 "nbformat_minor": 5
}
