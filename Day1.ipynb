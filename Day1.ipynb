{
 "cells": [
  {
   "cell_type": "markdown",
   "id": "d482d5e1-0716-43eb-83d5-e75f25426c80",
   "metadata": {},
   "source": [
    "## Part 1"
   ]
  },
  {
   "cell_type": "code",
   "execution_count": 2,
   "id": "5738ad3b-2506-403d-977a-13772ba69442",
   "metadata": {},
   "outputs": [],
   "source": [
    "with open('D1.txt') as f:\n",
    "    lines = f.readlines()"
   ]
  },
  {
   "cell_type": "code",
   "execution_count": 15,
   "id": "8965dfff-3137-46b7-9234-329017768580",
   "metadata": {},
   "outputs": [],
   "source": [
    "calories = []\n",
    "elf_cal = 0\n",
    "\n",
    "for line in lines:\n",
    "    if line.strip():\n",
    "        elf_cal = elf_cal + int(line.strip())\n",
    "    else:\n",
    "        calories.append(elf_cal)\n",
    "        elf_cal = 0"
   ]
  },
  {
   "cell_type": "code",
   "execution_count": 19,
   "id": "4b159457-1592-4790-b877-e5d61f444b1a",
   "metadata": {},
   "outputs": [
    {
     "data": {
      "text/plain": [
       "70374"
      ]
     },
     "execution_count": 19,
     "metadata": {},
     "output_type": "execute_result"
    }
   ],
   "source": [
    "max(calories)"
   ]
  },
  {
   "cell_type": "markdown",
   "id": "99f2f6c9-87fc-475a-8be7-03fdf55fcf4b",
   "metadata": {},
   "source": [
    "## Part 2"
   ]
  },
  {
   "cell_type": "code",
   "execution_count": 25,
   "id": "39c83d1c-b877-44c1-9436-591fc99be913",
   "metadata": {},
   "outputs": [],
   "source": [
    "calories.sort(reverse=True)"
   ]
  },
  {
   "cell_type": "code",
   "execution_count": 29,
   "id": "98cf8f13-6609-41fc-8d17-89e66931e155",
   "metadata": {},
   "outputs": [
    {
     "data": {
      "text/plain": [
       "204610"
      ]
     },
     "execution_count": 29,
     "metadata": {},
     "output_type": "execute_result"
    }
   ],
   "source": [
    "sum(calories[0:3])"
   ]
  }
 ],
 "metadata": {
  "kernelspec": {
   "display_name": "Python 3 (ipykernel)",
   "language": "python",
   "name": "python3"
  },
  "language_info": {
   "codemirror_mode": {
    "name": "ipython",
    "version": 3
   },
   "file_extension": ".py",
   "mimetype": "text/x-python",
   "name": "python",
   "nbconvert_exporter": "python",
   "pygments_lexer": "ipython3",
   "version": "3.7.4"
  }
 },
 "nbformat": 4,
 "nbformat_minor": 5
}
