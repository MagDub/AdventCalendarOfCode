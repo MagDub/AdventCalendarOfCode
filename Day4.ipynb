{
 "cells": [
  {
   "cell_type": "code",
   "execution_count": 1,
   "id": "37f985b4-abc1-4817-ad37-50f725308592",
   "metadata": {},
   "outputs": [],
   "source": [
    "with open('D4.txt') as f:\n",
    "    lines = f.readlines()"
   ]
  },
  {
   "cell_type": "code",
   "execution_count": 79,
   "id": "d03f0605-0fe9-42af-9989-dace300e468e",
   "metadata": {},
   "outputs": [
    {
     "data": {
      "text/plain": [
       "550"
      ]
     },
     "execution_count": 79,
     "metadata": {},
     "output_type": "execute_result"
    }
   ],
   "source": [
    "n_pairs = 0\n",
    "\n",
    "for line in lines:\n",
    "        \n",
    "    pair = line.strip().split(',')\n",
    "\n",
    "    id1 = [int(el) for el in pair[0].split('-')]\n",
    "    id2 = [int(el) for el in pair[1].split('-')]\n",
    "\n",
    "    range1 = range(id1[0], id1[1]+1)\n",
    "    range2 = range(id2[0], id2[1]+1)\n",
    "    \n",
    "    if (set(range1).issubset(range2) or set(range2).issubset(range1)):\n",
    "        n_pairs += 1\n",
    "        \n",
    "n_pairs"
   ]
  },
  {
   "cell_type": "code",
   "execution_count": null,
   "id": "1b36e908-53f0-4051-bc74-12200266b404",
   "metadata": {},
   "outputs": [],
   "source": []
  }
 ],
 "metadata": {
  "kernelspec": {
   "display_name": "Python 3 (ipykernel)",
   "language": "python",
   "name": "python3"
  },
  "language_info": {
   "codemirror_mode": {
    "name": "ipython",
    "version": 3
   },
   "file_extension": ".py",
   "mimetype": "text/x-python",
   "name": "python",
   "nbconvert_exporter": "python",
   "pygments_lexer": "ipython3",
   "version": "3.7.4"
  }
 },
 "nbformat": 4,
 "nbformat_minor": 5
}
