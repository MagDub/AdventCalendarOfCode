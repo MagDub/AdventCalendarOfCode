{
 "cells": [
  {
   "cell_type": "markdown",
   "id": "09cf5b2d-f56c-4da3-8047-65f895b7d386",
   "metadata": {},
   "source": [
    "### Part 1"
   ]
  },
  {
   "cell_type": "code",
   "execution_count": 1,
   "id": "37f985b4-abc1-4817-ad37-50f725308592",
   "metadata": {},
   "outputs": [],
   "source": [
    "with open('D4.txt') as f:\n",
    "    lines = f.readlines()"
   ]
  },
  {
   "cell_type": "code",
   "execution_count": 136,
   "id": "bac63307-45bb-4ba1-ab32-589bb3328249",
   "metadata": {},
   "outputs": [],
   "source": [
    "def get_ranges(line):\n",
    "    \n",
    "    pair = line.strip().split(',')\n",
    "    \n",
    "    id1 = [int(el) for el in pair[0].split('-')]\n",
    "    id2 = [int(el) for el in pair[1].split('-')]\n",
    "\n",
    "    range1 = range(id1[0], id1[1]+1)\n",
    "    range2 = range(id2[0], id2[1]+1)\n",
    "    \n",
    "    return range1, range2"
   ]
  },
  {
   "cell_type": "code",
   "execution_count": 156,
   "id": "d03f0605-0fe9-42af-9989-dace300e468e",
   "metadata": {},
   "outputs": [
    {
     "data": {
      "text/plain": [
       "550"
      ]
     },
     "execution_count": 156,
     "metadata": {},
     "output_type": "execute_result"
    }
   ],
   "source": [
    "n_pairs = 0\n",
    "\n",
    "for line in lines:\n",
    "    \n",
    "    range1, range2 = get_ranges(line)\n",
    "    \n",
    "    if (set(range1).issubset(range2) or set(range2).issubset(range1)):\n",
    "        n_pairs += 1\n",
    "        \n",
    "n_pairs"
   ]
  },
  {
   "cell_type": "markdown",
   "id": "e4174e2b-c4b3-4a67-bec0-65eec1f4e885",
   "metadata": {},
   "source": [
    "### Part 2"
   ]
  },
  {
   "cell_type": "code",
   "execution_count": 138,
   "id": "5c783930-1c35-408e-8cfd-6469d491c955",
   "metadata": {},
   "outputs": [],
   "source": [
    "n_pairs = 0\n",
    "\n",
    "for line in lines:\n",
    "\n",
    "    range1, range2 = get_ranges(line)\n",
    "    \n",
    "    if len(set(range1) & set(range2)) > 0:\n",
    "        n_pairs += 1"
   ]
  },
  {
   "cell_type": "code",
   "execution_count": 139,
   "id": "53869385-3fb7-47c1-9e41-0e5a0ff92d52",
   "metadata": {},
   "outputs": [
    {
     "data": {
      "text/plain": [
       "931"
      ]
     },
     "execution_count": 139,
     "metadata": {},
     "output_type": "execute_result"
    }
   ],
   "source": [
    "n_pairs"
   ]
  }
 ],
 "metadata": {
  "kernelspec": {
   "display_name": "Python 3 (ipykernel)",
   "language": "python",
   "name": "python3"
  },
  "language_info": {
   "codemirror_mode": {
    "name": "ipython",
    "version": 3
   },
   "file_extension": ".py",
   "mimetype": "text/x-python",
   "name": "python",
   "nbconvert_exporter": "python",
   "pygments_lexer": "ipython3",
   "version": "3.7.4"
  }
 },
 "nbformat": 4,
 "nbformat_minor": 5
}
