{
 "cells": [
  {
   "cell_type": "markdown",
   "id": "a126b1ba-4557-47eb-8b49-f444e64ab9c6",
   "metadata": {},
   "source": [
    "# Day 6"
   ]
  },
  {
   "cell_type": "code",
   "execution_count": 89,
   "id": "55eb2b02-683f-484f-b71b-71b0548339fc",
   "metadata": {},
   "outputs": [],
   "source": [
    "with open('D6.txt') as f:\n",
    "    line = f.readlines()[0].strip()"
   ]
  },
  {
   "cell_type": "code",
   "execution_count": 111,
   "id": "26239912-00e2-4e47-b101-d4a81ffb1cd8",
   "metadata": {},
   "outputs": [],
   "source": [
    "def unique_seq(line, N):\n",
    "    i = N\n",
    "    while len(line[i-N:i]) != len(set(line[i-N:i])):\n",
    "        i+=1\n",
    "        \n",
    "    return i"
   ]
  },
  {
   "cell_type": "markdown",
   "id": "c419bc6e-7082-4d4b-add6-984215ac24ba",
   "metadata": {},
   "source": [
    "### Part 1"
   ]
  },
  {
   "cell_type": "code",
   "execution_count": 112,
   "id": "b1d9fa9f-f322-4388-9cba-6f8b68583cf9",
   "metadata": {},
   "outputs": [
    {
     "data": {
      "text/plain": [
       "1531"
      ]
     },
     "execution_count": 112,
     "metadata": {},
     "output_type": "execute_result"
    }
   ],
   "source": [
    "unique_seq(line, N=4)"
   ]
  },
  {
   "cell_type": "markdown",
   "id": "5ecd14a3-3239-4b47-bdb3-d0079fef05a7",
   "metadata": {},
   "source": [
    "### Part 2 "
   ]
  },
  {
   "cell_type": "code",
   "execution_count": 113,
   "id": "adcfcecc-5337-4d2b-91bc-d7fea87fcd3f",
   "metadata": {},
   "outputs": [
    {
     "data": {
      "text/plain": [
       "2518"
      ]
     },
     "execution_count": 113,
     "metadata": {},
     "output_type": "execute_result"
    }
   ],
   "source": [
    "unique_seq(line, N=14)"
   ]
  },
  {
   "cell_type": "code",
   "execution_count": null,
   "id": "2c547761-0feb-45ea-94b7-06ec3fa5eeef",
   "metadata": {},
   "outputs": [],
   "source": []
  }
 ],
 "metadata": {
  "kernelspec": {
   "display_name": "Python 3 (ipykernel)",
   "language": "python",
   "name": "python3"
  },
  "language_info": {
   "codemirror_mode": {
    "name": "ipython",
    "version": 3
   },
   "file_extension": ".py",
   "mimetype": "text/x-python",
   "name": "python",
   "nbconvert_exporter": "python",
   "pygments_lexer": "ipython3",
   "version": "3.7.4"
  }
 },
 "nbformat": 4,
 "nbformat_minor": 5
}
