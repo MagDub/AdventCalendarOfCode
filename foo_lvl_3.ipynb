{
 "cells": [
  {
   "cell_type": "markdown",
   "id": "d559ce39-d908-456b-b7cd-291c581e4eeb",
   "metadata": {},
   "source": [
    "## Level 3.1"
   ]
  },
  {
   "cell_type": "markdown",
   "id": "25b83157-c99a-4215-8e95-3aeb05911cc5",
   "metadata": {},
   "source": [
    "The fuel control mechanisms have three operations: \n",
    "1) Add one fuel pellet\n",
    "2) Remove one fuel pellet\n",
    "3) Divide the entire group of fuel pellets by 2 \n",
    "(due to the destructive energy released when a quantum antimatter pellet is cut in half, <br /> \n",
    "the safety controls will only allow this to happen if there is an even number of pellets)"
   ]
  },
  {
   "cell_type": "code",
   "execution_count": 23,
   "id": "906bdd06-74fb-4696-a4d7-b5ff85c86653",
   "metadata": {},
   "outputs": [],
   "source": [
    "def solution(val):\n",
    "    \n",
    "    n = int(val)\n",
    "    op = 0\n",
    "\n",
    "    while n>1:\n",
    "        \n",
    "        # is odd\n",
    "        if n%2 != 0:\n",
    "            \n",
    "            div = 2\n",
    "\n",
    "            while (n+1)%div == (n-1)%div:\n",
    "                div = div*2\n",
    "\n",
    "            if (n+1)%div <= (n-1)%div and (n-1)!=2:\n",
    "                n+=1\n",
    "            else:\n",
    "                n-=1\n",
    "\n",
    "        # is even\n",
    "        elif n%2 == 0:\n",
    "            \n",
    "            n = n/2\n",
    "            \n",
    "        else:\n",
    "            print('problem')\n",
    "        \n",
    "        op += 1\n",
    "        \n",
    "    return op"
   ]
  },
  {
   "cell_type": "markdown",
   "id": "cfa09591-d521-4ebd-8e69-dff02ef042be",
   "metadata": {},
   "source": [
    "## Level 3.2"
   ]
  },
  {
   "cell_type": "markdown",
   "id": "dea682d1-de45-47ef-a91e-5c459b9ac9c7",
   "metadata": {},
   "source": [
    "Fortunately, now that you're Commander Lambda's personal assistant, Lambda has confided to you that all the access codes are \"lucky triples\" in order to make it easier to find them in the lists. A \"lucky triple\" is a tuple (x, y, z) where x divides y and y divides z, such as (1, 2, 4). With that information, you can figure out which list contains the number of access codes that matches the number of locks on the door when you're ready to go in (for example, if there's 5 passcodes, you'd need to find a list with 5 \"lucky triple\" access codes).\n",
    "\n",
    "Write a function solution(l) that takes a list of positive integers l and counts the number of \"lucky triples\" of (li, lj, lk) where the list indices meet the requirement i < j < k.  The length of l is between 2 and 2000 inclusive.  The elements of l are between 1 and 999999 inclusive.  The solution fits within a signed 32-bit integer. Some of the lists are purposely generated without any access codes to throw off spies, so if no triples are found, return 0. \n",
    "\n",
    "For example, [1, 2, 3, 4, 5, 6] has the triples: [1, 2, 4], [1, 2, 6], [1, 3, 6], making the solution 3 total."
   ]
  },
  {
   "cell_type": "code",
   "execution_count": 47,
   "id": "a1789694-4055-4f19-9912-ec93f0caae10",
   "metadata": {},
   "outputs": [],
   "source": [
    "def solution1(l):\n",
    "    \n",
    "    triplets = []\n",
    "    \n",
    "    while 0 in l:\n",
    "        l.remove(0)\n",
    "\n",
    "    for i in range(0,len(l)):\n",
    "        for j in range(0,len(l)):\n",
    "            for k in range(0,len(l)):\n",
    "                if l[k]%l[j]==0 and l[j]%l[i]==0 and i<j and j<k:\n",
    "                    triplets.append([l[i], l[j], l[k]])\n",
    "        \n",
    "    n_triplets = int(len(triplets))\n",
    "            \n",
    "    return n_triplets"
   ]
  },
  {
   "cell_type": "code",
   "execution_count": 48,
   "id": "929b2b8a-9520-408b-9a0c-eacac2394bb6",
   "metadata": {},
   "outputs": [],
   "source": [
    "def solution(l):\n",
    "    \n",
    "    counts = [0] * len(l)\n",
    "    n = 0\n",
    "    \n",
    "    for i in range(0,len(l)):\n",
    "        for j in range(0,i):\n",
    "            if l[i] % l[j] == 0:\n",
    "                counts[i] += 1\n",
    "                n += counts[j]\n",
    "            \n",
    "    return n\n"
   ]
  },
  {
   "cell_type": "code",
   "execution_count": null,
   "id": "59cad650-d282-4b2c-b05f-f8a6d513b4e9",
   "metadata": {},
   "outputs": [],
   "source": []
  },
  {
   "cell_type": "code",
   "execution_count": null,
   "id": "4ffbd165-19b6-4cfd-9cbb-a54650d5c5ff",
   "metadata": {},
   "outputs": [],
   "source": []
  }
 ],
 "metadata": {
  "kernelspec": {
   "display_name": "Python 3 (ipykernel)",
   "language": "python",
   "name": "python3"
  },
  "language_info": {
   "codemirror_mode": {
    "name": "ipython",
    "version": 3
   },
   "file_extension": ".py",
   "mimetype": "text/x-python",
   "name": "python",
   "nbconvert_exporter": "python",
   "pygments_lexer": "ipython3",
   "version": "3.7.4"
  }
 },
 "nbformat": 4,
 "nbformat_minor": 5
}
